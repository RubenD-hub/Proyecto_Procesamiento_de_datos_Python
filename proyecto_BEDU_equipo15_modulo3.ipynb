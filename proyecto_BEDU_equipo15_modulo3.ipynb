{
  "nbformat": 4,
  "nbformat_minor": 0,
  "metadata": {
    "colab": {
      "name": "proyecto_BEDU_equipo15_modulo3.ipynb",
      "provenance": [],
      "collapsed_sections": [],
      "include_colab_link": true
    },
    "kernelspec": {
      "name": "python3",
      "display_name": "Python 3"
    },
    "language_info": {
      "name": "python"
    }
  },
  "cells": [
    {
      "cell_type": "markdown",
      "metadata": {
        "id": "view-in-github",
        "colab_type": "text"
      },
      "source": [
        "<a href=\"https://colab.research.google.com/github/IsmaelOr/BEDU_Proyecto_Python_Equipo15/blob/main/proyecto_BEDU_equipo15_modulo3.ipynb\" target=\"_parent\"><img src=\"https://colab.research.google.com/assets/colab-badge.svg\" alt=\"Open In Colab\"/></a>"
      ]
    },
    {
      "cell_type": "markdown",
      "metadata": {
        "id": "1AZSiIhbaw9k"
      },
      "source": [
        "# Fase II. Módulo 2 - Procesamiento de Datos con Python Santander 2021\n",
        " \n",
        "### Identificación del problema. \n",
        "***Delincuencia en México***\n",
        " \n",
        "---\n",
        " \n",
        "### Investigación.\n",
        "**Definición de delincuencia:** La delincuencia es un problema socio-económico, político y de seguridad que viven muchas personas día a día, y actualmente es el \n",
        "problema que más sucede en México.\n",
        " \n",
        "La incidencia delictiva se ha incrementado progresivamente desde el año 2001, principalmente los delitos de robo a mano armada, secuestro, y homicidio doloso.\n",
        " \n",
        "**Índice de Criminalidad en el Mundo 2020**\n",
        " \n",
        "<img src=\"https://raw.githubusercontent.com/IsmaelOr/BEDU_Proyecto_Python_Equipo15/main/imagenes/mapa_criminalidad.jpg\" />\n",
        " \n",
        "México se encuentra en el lugar 34 en la tabla de países con mayor índice de criminalidad.\n",
        " \n",
        "<img src=\"https://raw.githubusercontent.com/IsmaelOr/BEDU_Proyecto_Python_Equipo15/main/imagenes/lugar_mexico.jpg\" />\n",
        " \n",
        "---\n",
        " \n",
        "Este tema es relevante porque toda sociedad aspira a tener un ambiente de vida sin\n",
        "violencia, que no atente contra la integridad física y patrimonial de sus ciudadanos.\n",
        " \n",
        "Respecto a la búsqueda de soluciones anteriores, en este rubro encontramos que la\n",
        "realización de encuestas de victimización ha cobrado importancia a nivel mundial y\n",
        "nacional tanto para los gobiernos y autoridades responsables de brindar seguridad y\n",
        "justicia como en el ámbito académico, un ejemplo es el análisis de Delincuencia y\n",
        "actividad económica en México realizado por Jorge Quiroz Félix et al, donde examina\n",
        "la relación entre actos violentos o delictivos y la actividad económica en México. El\n",
        "ejercicio se lleva a cabo mediante series de tiempo y lo podemos encontrar en el\n",
        "siguiente enlace: http://www.scielo.org.mx/scielo.php?pid=S1870-35502015000200187&script=sci_arttext .\n",
        " \n",
        "Estas encuestas funcionan recabando información sobre la incidencia delictiva que\n",
        "afecta a los ciudadanos, las características del delito, las víctimas, así como la\n",
        "percepción de la seguridad pública y el desempeño de las instituciones a cargo de la\n",
        "seguridad.\n",
        " \n",
        "El propósito de analizar esta información como parte de la ciencia de datos es que\n",
        "tanto la población en general como las autoridades del país conozcan la situación\n",
        "actual y se cuente con los elementos para generar políticas públicas encaminadas a\n",
        "solucionar este problema.\n",
        "\n",
        "\n",
        "### Soluciones pasadas\n",
        "Para las soluciones pasadas nos basamos en OpenRevista que contiene un análisis de cifras de delincuencia en México<br/>\n",
        "link: https://openrevista.com/social/la-delincuencia-en-mexico-en-cifras/"
      ]
    },
    {
      "cell_type": "markdown",
      "metadata": {
        "id": "5b30hTOSnrg1"
      },
      "source": [
        "# Planteamiento de Preguntas\n",
        "Como parte de nuestro trabajo nos planteamos las siguientes preguntas:\n",
        "\n",
        "<ul>\n",
        "  <li>¿Influye el consumo de sustancias adictivas en la ejecución de un delito? </li>\n",
        "  <li>¿Cuál es la edad promedio de las personas que cometen un delito?</li>\n",
        "  <li>¿Qué género es el que comete más delitos? ¿Por qué?</li>\n",
        "  <li>¿Cuáles son los estados, municipios o regiones con mayor incidencia delictiva en México? ¿Se puede saber por qué?</li>\n",
        "  <li>¿Cuál es el delito más recurrente en México?</li>\n",
        "  <li>¿Qué género tiene mayor probabilidad de ser víctima de un delito?</li>\n",
        "  <li>¿Cuál es el arma u objeto más utilizado a la hora de cometer un delito?</li>\n",
        "  <li>¿Cuál es la temporada del año en la que se cometen más delitos?</li>\n",
        "</ul>\n",
        "Estas preguntas nos sirvieron de guía para buscar información al respecto en diferentes bases de datos."
      ]
    },
    {
      "cell_type": "markdown",
      "metadata": {
        "id": "q-73ly7-sE51"
      },
      "source": [
        "## Búsqueda de Datos para responder a las preguntas que nos hemos planteado.\n",
        "<strong>DataSet </strong> : https://www.inegi.org.mx/programas/envipe/2020/#Herramientas <br/>\n",
        "El DataSet que nos pareció adecuado debido a la gran cantidad de Datos que contenía fue el que se encuentra en la página del INEGI, el DataSet se basa en la Encuesta Nacional de Victimización y Percepción sobre Seguridad Pública (ENVIPE). En la página se encuentran los DataSets de esta encuesta desde el año 2011 a 2020, debido a que necesitamos delimitar períodos para un mejor manejo de Datos, decidimos utilizar solo los DataSets en el período 2018 - 2020 que corresponden al inicio del sexenio de Andrés Manuel López Obrador. Esta encuesta consiste en tomar una muestra de 100 mil hogares de los cuales se seleccionan en el módulo de victimización que tomamos como base de datos aquellos que respondieron afirmativamente haber sido víctimas de algún delito en el año respectivo. <br/>\n"
      ]
    },
    {
      "cell_type": "markdown",
      "metadata": {
        "id": "Zj3As4GxswVm"
      },
      "source": [
        "# Importación de Paquetes en Python\n",
        "Necesitaremos importar pandas y numpy, para poder utilizar las funciónes que cada uno de estos ofrece respectivamente."
      ]
    },
    {
      "cell_type": "code",
      "metadata": {
        "id": "v1RQNlOPfl_z"
      },
      "source": [
        "import pandas as pd\n",
        "import numpy as np"
      ],
      "execution_count": null,
      "outputs": []
    },
    {
      "cell_type": "markdown",
      "metadata": {
        "id": "g99i7UvdFdMF"
      },
      "source": [
        "### Importación de los Dataframes\n",
        "Debido a que en la página donde se consiguieron los datos, se tenía que descargar y el resultado de estos archivos eran .CSV, decidimos subirlos a un Repositorio de GitHub todos estos archivos, para poder importarlos a nuestro trabajo. <br/>\n",
        "El Link del Repositorio es: https://github.com/IsmaelOr/BEDU_Proyecto_Python_Equipo15 <br/>\n",
        " \n",
        "Utilizaremos Pandas para leer nuestros archivos CSV, con pd.read_csv( ). <br/>\n",
        "Dado que nuestros archivos .CSV están separados por años, harémos lectura de cada uno de estos, para generar un DataFrame por año y más adelante poder unirlos para solo tener un único DataFrame. <br/>\n",
        " \n",
        "Hicimos una exploración previa a nuestros Datos, y vimos que no hay una columna que nos indique el año en el que corresponde cada fila dentro del Archivo, decidimos insertar una columna que contiene el año en la que se realizo la encuesta, para que al momento de juntar los DataFrames, podamos identificar a que año corresponde cada dato."
      ]
    },
    {
      "cell_type": "code",
      "metadata": {
        "colab": {
          "base_uri": "https://localhost:8080/"
        },
        "id": "TLqgFdGwfrfy",
        "outputId": "ec72e86b-ef2e-4205-a852-935f40824e99"
      },
      "source": [
        "df_2020 = pd.read_csv('https://raw.githubusercontent.com/IsmaelOr/BEDU_Proyecto_Python_Equipo15/main/Files/TMod_Vic_2020.csv', sep = ',')\n",
        "df_2020.insert(0, 'anio', 2020) # Se agrega una nueva columna con el año de la encuesta \n",
        "\n",
        "df_2019 = pd.read_csv('https://raw.githubusercontent.com/IsmaelOr/BEDU_Proyecto_Python_Equipo15/main/Files/TMod_Vic_2019.csv')\n",
        "df_2019.insert(0, 'anio', 2019)\n",
        "\n",
        "df_2018 = pd.read_csv('https://raw.githubusercontent.com/IsmaelOr/BEDU_Proyecto_Python_Equipo15/main/Files/TMod_Vic_2018.csv')\n",
        "df_2018.insert(0, 'anio', 2018)"
      ],
      "execution_count": null,
      "outputs": [
        {
          "output_type": "stream",
          "text": [
            "/usr/local/lib/python3.7/dist-packages/IPython/core/interactiveshell.py:2718: DtypeWarning: Columns (14,125) have mixed types.Specify dtype option on import or set low_memory=False.\n",
            "  interactivity=interactivity, compiler=compiler, result=result)\n"
          ],
          "name": "stderr"
        }
      ]
    },
    {
      "cell_type": "markdown",
      "metadata": {
        "id": "7e4XrM4GFort"
      },
      "source": [
        "### Inspección 1 de los Dataframes"
      ]
    },
    {
      "cell_type": "code",
      "metadata": {
        "id": "CajmDJLtwueO",
        "colab": {
          "base_uri": "https://localhost:8080/"
        },
        "outputId": "1b9fa211-814d-485b-bf8c-54867931819c"
      },
      "source": [
        "print(f'df_2018:\\n{df_2018.head(3)}')\n",
        "print(f'df_2019:\\n{df_2019.head(3)}')\n",
        "print(f'df_2020:\\n{df_2020.head(3)}')"
      ],
      "execution_count": null,
      "outputs": [
        {
          "output_type": "stream",
          "text": [
            "df_2018:\n",
            "   anio     ID_VIV           ID_HOG  ... ESTRATO EST_DIS  UPM_DIS\n",
            "0  2018  100721.03  0100721.03.01\\r  ...       3       2       79\n",
            "1  2018  100721.03  0100721.03.01\\r  ...       3       2       79\n",
            "2  2018  100721.03  0100721.03.01\\r  ...       3       2       79\n",
            "\n",
            "[3 rows x 130 columns]\n",
            "df_2019:\n",
            "   anio     ID_VIV           ID_HOG  ... ESTRATO EST_DIS  UPM_DIS\n",
            "0  2019  101430.05  0101430.05.01\\r  ...       4       1      195\n",
            "1  2019  101430.05  0101430.05.01\\r  ...       4       1      195\n",
            "2  2019  100397.01  0100397.01.01\\r  ...       2       1       59\n",
            "\n",
            "[3 rows x 130 columns]\n",
            "df_2020:\n",
            "   anio     ID_VIV           ID_HOG  ... ESTRATO EST_DIS  UPM_DIS\n",
            "0  2020  101520.03  0101520.03.01\\r  ...       2       1      207\n",
            "1  2020  160019.04  0160019.04.01\\r  ...       2      11      288\n",
            "2  2020  102339.17  0102339.17.01\\r  ...       2       9      285\n",
            "\n",
            "[3 rows x 131 columns]\n"
          ],
          "name": "stdout"
        }
      ]
    },
    {
      "cell_type": "markdown",
      "metadata": {
        "id": "4Ap8HZj5vEk0"
      },
      "source": [
        "# Después de la exploración de los Datos\n",
        "Hemos decidido plantear las siguientes preguntas, para saber si realmente los dataframes elegidos, nos ayudarán a contestar nuestros cuestionamientos anteriores. \n",
        "<ul>\n",
        "<li> ¿El conjunto de datos que tengo realmente me sirve para responder algunas de las preguntas que me planteé?\n",
        "<ul>\n",
        "<li>\n",
        "Tienen un tamaño de 131605 filas y 131 columnas, los cuales consideramos suficientes.\n",
        "</li>\n",
        "</ul>\n",
        "</li>\n",
        "\n",
        "<li> ¿Qué columnas tengo y qué información tengo en cada una de esas columnas?\n",
        "<ul>\n",
        "<li>\n",
        "Se tienen columnas de la información de la víctima, información de los delincuentes, información sobre el lugar en dónde se cometió el delito y el tipo de delito cometido.\n",
        "</li>\n",
        "</ul>\n",
        "</li>\n",
        "\n",
        "<li> Los nombres que tienen mis columnas, ¿son el nombre más apropiado?\n",
        "<ul>\n",
        "<li>\n",
        "En un principio, no. Sin embargo, decidimos cambiar sus nombres a unos que consideramos más apropiados.\n",
        "</li>\n",
        "</ul>\n",
        "</li>\n",
        "<li> ¿Qué tipos de datos tengo en cada columna? ¿Parecen ser el tipo correcto de datos? ¿O es un tipo de datos \"incorrecto\"?\n",
        "<ul>\n",
        "<li>\n",
        "Los tipos de datos se tienen que cambiar a enteros, ya que algunos aparecen como tipo ‘Object’ u objeto, y no nos servirán para el análisis.\n",
        "</li>\n",
        "</ul>\n",
        "</li>\n",
        "\n",
        "<li> ¿Qué tipos de datos tengo en cada columna? ¿Parecen ser el tipo correcto de datos? ¿O es un tipo de datos \"incorrecto\"?\n",
        "<ul>\n",
        "<li>\n",
        "Los tipos de datos se tuvieron que cambiar a enteros, ya que algunos se tenían como tipo ‘Object’ u objeto, y no nos servían para el análisis.\n",
        "</li>\n",
        "</ul>\n",
        "</li>\n",
        "\n",
        "<li> Si selecciono algunas filas al azar y las observo, ¿estoy obteniendo los datos que debería? ¿o hay datos que parecen estar \"sucios\" o \"incorrectos\"?\n",
        "<ul>\n",
        "<li>\n",
        "Antes de la limpieza de datos hay varias columnas que tienen datos vacíos, o datos que no corresponden (NaNs) con las respuestas esperadas.\n",
        "</li>\n",
        "</ul>\n",
        "</li>\n",
        "\n",
        "</ul>\n",
        "\n",
        "\n",
        "A continuación realizamos la limpieza del DataFrame\n"
      ]
    },
    {
      "cell_type": "markdown",
      "metadata": {
        "id": "yNlwlvFoFtxk"
      },
      "source": [
        "### Eliminación de las columnas que no queremos del df_2020\n",
        "\n",
        "No son datos relevantes para nuestra investigación."
      ]
    },
    {
      "cell_type": "code",
      "metadata": {
        "id": "j4Lb5ZDn3k5r"
      },
      "source": [
        "df_2020 = df_2020.drop(columns = ['ID_VIV', 'BP1_26', 'BP1_32_5', 'BP1_32_9', 'BP3_1_12', 'BP3_1_99', 'BP5_2_2', 'BP6_3', 'BP1_16_9',\\\n",
        "                                  'ID_HOG', 'ID_PER', 'ID_DEL', 'UPM', 'VIV_SEL', 'HOGAR', 'ND_TIPO', 'TD_TIPO', 'R_SEL', 'RESUL_H',\\\n",
        "                                  'BP1_22', 'BP1_31_01', 'BP1_31_02', 'BP1_31_03', 'BP1_31_04', 'BP1_31_05', 'BP1_31_06', 'BP1_31_07',\\\n",
        "                                  'BP1_31_08', 'BP1_31_09', 'BP1_31_99', 'BP1_36_01', 'BP1_36_02', 'BP1_36_03', 'BP1_36_04', 'BP1_36_05',\\\n",
        "                                  'BP1_36_06', 'BP1_36_07', 'BP1_36_08', 'BP1_36_09', 'BP1_36_10', 'BP1_36_11', 'BP1_36_99', 'FAC_DEL',\\\n",
        "                                  'FAC_DEL_AM', 'EST_DIS', 'UPM_DIS', 'BP3_1_01', 'BP1_10_9', 'BP1_12_1', 'BP1_12_2', 'BP1_12_3', 'BP1_12_4',\\\n",
        "                                  'BP1_12_5', 'BP1_12_9', 'BP1_14_9'])"
      ],
      "execution_count": null,
      "outputs": []
    },
    {
      "cell_type": "markdown",
      "metadata": {
        "id": "8JIiVNyTF1Ds"
      },
      "source": [
        "### Eliminación de las columnas de los demás df que no estén en las columnas del df_2020\n",
        "\n",
        "Mediante el siguiente ciclo for, realizamos una búsqueda sobre las columnas de nuestros dataframes para comprobar si todas son iguales."
      ]
    },
    {
      "cell_type": "code",
      "metadata": {
        "id": "stJCC2MB5WTQ"
      },
      "source": [
        "dataframes = [df_2018, df_2019, df_2020]\n",
        "\n",
        "for i, data in enumerate(dataframes):\n",
        "    for columna in data.columns.to_list():\n",
        "        if columna not in df_2020.columns.to_list():\n",
        "            dataframes[i] = dataframes[i].drop(columns = [columna])"
      ],
      "execution_count": null,
      "outputs": []
    },
    {
      "cell_type": "markdown",
      "metadata": {
        "id": "T4lZKLBVGBPW"
      },
      "source": [
        "### Concatenación de los df y creación del df final\n",
        "\n",
        "Utilizamos la función 'concat()' de pandas para concatenar nuestros dataframes"
      ]
    },
    {
      "cell_type": "code",
      "metadata": {
        "id": "vKOpOsYkroRI"
      },
      "source": [
        "df_delitos = pd.concat(dataframes, axis = 0)"
      ],
      "execution_count": null,
      "outputs": []
    },
    {
      "cell_type": "markdown",
      "metadata": {
        "id": "EvLS_WHrGEL7"
      },
      "source": [
        "### Quitar los '\\r'\n",
        "\n",
        "Aquí utilizamos la función 'replace()', ya que nos encontramos que al final de los datos tenían una \"Secuencia de Escape\" (\\r)"
      ]
    },
    {
      "cell_type": "code",
      "metadata": {
        "id": "E8t79qHc5-15"
      },
      "source": [
        "df_delitos = df_delitos.replace({r'\\r': ''}, regex = True) # Sirve para quitar los '\\r'"
      ],
      "execution_count": null,
      "outputs": []
    },
    {
      "cell_type": "markdown",
      "metadata": {
        "id": "lwmYHQJP8HTR"
      },
      "source": [
        "### Cambio de los nombres de las columnas\n",
        " \n",
        "Optamos por cambiar de nombre las distintas columnas ya que comprendemos que así tiene mayor legibilidad y reindexamos"
      ]
    },
    {
      "cell_type": "code",
      "metadata": {
        "id": "GWDwpZTZWPYe"
      },
      "source": [
        "nombres_columnas = {\n",
        "    'anio': 'anio',                                 # Año de consulta\n",
        "    'SEXO': 'sexo',                                 # Sexo de las personas\n",
        "    'EDAD': 'edad',                                 # Edad de las personas\n",
        "    'AREAM_OCU': 'codigo_ciudad',                   # Código de ciudades\n",
        "    'BP1_2C': 'codigo_estado',                      # Código del estado\n",
        "    'BP1_3C': 'codigo_municipio',                   # Código del municipio\n",
        "    'DOMINIO': 'zona_vivienda',                     # Si la zona es Rural (R), Urbana (U) o Complemento Urbano (C)\n",
        "    'ESTRATO': 'clase_social',                      # Clase social de la víctima\n",
        "    'BPCOD': 'codigo_delito',                       # Código de delitos\n",
        "    'BP1_1': 'mes_delito',                          # Mes en el que se cometió el delito\n",
        "    'BP1_4': 'codigo_hora',                         # Código de la hora en la que se cometió el delito\n",
        "    'BP1_5': 'codigo_lugar',                        # Código del lugar en específico de donde se cometió el delito\n",
        "    'BP1_6': 'presencia_victima',                   # Estuvo presente la víctima o no al momento del delito\n",
        "    'BP1_7': 'observacion_delito',                  # Si la víctima observó el delito\n",
        "    'BP1_8': 'victima_acompaniada',                 # Si la víctima estaba acompañada al momento del delito\n",
        "    'BP1_9': 'numero_delin',                        # El número de delincuentes\n",
        "    'BP1_10_1': 'delin_hombres',                    # Si los delincuentes fueron hombres                ####### Juntarlos: 2\n",
        "    'BP1_10_2': 'delin_mujeres',                    # Si las delincuentes fueron mujeres                ####### Juntarlos: 1\n",
        "    'BP1_11': 'codigo_edad_delin',                  # El código de la edad de los delincuentes\n",
        "    'BP1_13': 'recon_delin',                        # Si la víctima puede reconocer a los delincuentes\n",
        "    'BP1_14_1': 'delin_drogado',                    # Si el delincuente estaba drogado \n",
        "    'BP1_14_2': 'delin_alcoholizado',               # Si el delincuente estaba alcoholizado\n",
        "    'BP1_14_3': 'delin_otra_influencia',            # Si el delincuente estaba bajo otro tipo de influencia\n",
        "    'BP1_14_4': 'delin_sobrios',                    # Si el delincuente estaba sobrio, es decir, en sus cinco sentidos\n",
        "    'BP1_15': 'delin_armado',                       # Si el delincuente estaba armado\n",
        "    'BP1_16_1': 'arma_fuego',                       # Si el delincuente tenía un arma de fuego\n",
        "    'BP1_16_2': 'arma_blanca',                      # Si el delincuente tenía un arma blanca\n",
        "    'BP1_16_3': 'objeto_contundente',               # Si el delincuente tenía un objeto como palos, varillas o tubos\n",
        "    'BP1_16_4': 'otra_arma',                        # Si el delincuente tenía algún otro tipo de arma\n",
        "    'BP1_17': 'heridas',                            # Si a la víctima le causaron heridas físicas\n",
        "    'BP1_18': 'violencia_otro',                     # Si la víctima recibió otro tipo de violencia\n",
        "    'BP1_19_1': 'moretones',                        # Si la víctima recibió moretones\n",
        "    'BP1_19_2': 'cortadas',                         # Si la víctima recibió cortadas\n",
        "    'BP1_19_3': 'dislocaciones',                    # Si la víctima recibió dislocaciones\n",
        "    'BP1_19_4': 'fracturas',                        # Si la víctima fue fracturada\n",
        "    'BP1_19_5': 'quemaduras',                       # Si la víctima sufrió algún tipo de quemadura\n",
        "    'BP1_19_6': 'perdida_conocimiento',             # Si la víctima sufrió pérdida del conocimiento\n",
        "    'BP1_19_7': 'herida_bala',                      # Si la víctima sufrió una herida de bala\n",
        "    'BP1_19_8': 'lesion_otro',                      # Si la víctima sufrió otro tipo de lesión\n",
        "    'BP1_20': 'denuncia_mp',                        # Si la víctima denunció al Ministerio Público\n",
        "    'BP1_21': 'denuncia_mp_familiar',               # Si algún otro miembro del hogar denunció al Ministerio Público\n",
        "    'BP1_23': 'razon_no_denuncia',                  # Código para no denunciar\n",
        "    'BP1_24': 'mp_investigacion',                   # Si el Ministerio Público inició una carpeta de investigación\n",
        "    'BP1_25': 'status_investigacion',               # Qué sucedió con la carpeta de investigación\n",
        "    'BP1_27': 'tiempo_denuncia_tramite',            # El tiempo que se tomó la víctima en el trámite de denuncia \n",
        "    'BP1_28': 'razon_denuncia',                     # Razón por la que la víctima denunció\n",
        "    'BP1_29': 'trato_mp',                           # Cómo fue el trato en el Ministerio Público\n",
        "    'BP1_30': 'denuncia_otra',                      # Si la víctima denunció a otra autoridad\n",
        "    'BP1_32_1': 'denuncia_911',                     # Si la víctima denunció al 911\n",
        "    'BP1_32_2': 'denuncia_por_internet',            # Si la víctima realizó su denuncia por internet\n",
        "    'BP1_32_3': 'denuncia_email',                   # Si la víctima denunció a través de un correo electrónico\n",
        "    'BP1_32_4': 'denuncia_msm',                     # Si la víctima denunció a través de mensaje de texto\n",
        "    'BP1_33': 'danio_principal',                    # Código para el daño principal de la víctima\n",
        "    'BP1_34': 'danio_economico',                    # Estimación del daño económico en pesos mexicanos          ### JUNTAR\n",
        "    'BP1_35': 'gastos_medicos',                     # Gastos médicos                                            ### JUNTAR\n",
        "    'BP2_1': 'vehiculo_asegurado',                  # Si el vehículo robado estaba asegurado\n",
        "    'BP3_1_02': 'robo_casa_mobiliario',             # Si se robaron el mobiliario de la casa\n",
        "    'BP3_1_03': 'robo_casa_electronica',            # Si se robaron equipo electrónico de la casa\n",
        "    'BP3_1_04': 'robo_casa_electrodomesticos',      # Si se robaron electrodomésticos de la casa \n",
        "    'BP3_1_05': 'robo_casa_bolsa',                  # Si se robaron bolsas, maletas o portafolios de la casa \n",
        "    'BP3_1_06': 'robo_casa_joyas',                  # Si se robaron joyas o relojes de la casa \n",
        "    'BP3_1_07': 'robo_casa_dinero',                 # Si se robaron dinero, tarjetas o cheques de la casa \n",
        "    'BP3_1_08': 'robo_casa_docs',                   # Si se robaron documentos o identificaciones de la casa \n",
        "    'BP3_1_09': 'robo_casa_celular',                # Si se robaron celulares de la casa\n",
        "    'BP3_1_10': 'robo_casa_bicicleta',              # Si se robaron bicicletas de la casa \n",
        "    'BP3_1_11': 'robo_casa_otro',                   # Si se robaron algún otro tipo de cosas de la casa \n",
        "    'BP3_2': 'presencia_robo',                      # Si alguien del hogar en el robo\n",
        "    'BP4_1': 'tipo_fraude',                         # Qué fraude hicieron\n",
        "    'BP5_1': 'medio_extorsion',                     # Medio por el cual extorsionaron a la víctima\n",
        "    'BP5_2_1': 'extorsion_dinero',                  # Extorsion por dinero\n",
        "    'BP5_2_3': 'extorsion_otro',                    # Extorsión por otro tipo de cosas, no dinero\n",
        "    'BP5_2_4': 'extorsion_nada',                    # Extorsión por nada a cambio o no alcanzó a pedirle algo\n",
        "    'BP5_3': 'extorsion_consumada',                 # Si la víctima entregó lo que le pidieron \n",
        "    'BP6_1': 'secuestro_consumado',                 # Si los victimarios lograron el secuetro\n",
        "    'BP6_2': 'rescate_secuestro_pagado',            # Si las víctimas entregaron lo que se pidió en el secuestro\n",
        "    'BP7_1': 'tipo_acoso',                          # Qué tipo de acoso recibió la víctima\n",
        "}"
      ],
      "execution_count": null,
      "outputs": []
    },
    {
      "cell_type": "code",
      "metadata": {
        "id": "etWxRh2ruxwX"
      },
      "source": [
        "df_delitos = df_delitos.rename(columns = nombres_columnas)\n",
        "\n",
        "df_delitos = df_delitos.reset_index(drop = True)"
      ],
      "execution_count": null,
      "outputs": []
    },
    {
      "cell_type": "markdown",
      "metadata": {
        "id": "9VnS2naDkDTm"
      },
      "source": [
        "### Cambio en el orden la columnas"
      ]
    },
    {
      "cell_type": "code",
      "metadata": {
        "id": "KFwGvcctubc6"
      },
      "source": [
        "df_delitos = df_delitos[['anio',\n",
        " 'sexo',\n",
        " 'edad',\n",
        " 'codigo_ciudad',\n",
        " 'codigo_estado',\n",
        " 'codigo_municipio',\n",
        " 'zona_vivienda',\n",
        " 'clase_social',\n",
        " 'codigo_delito',\n",
        " 'mes_delito',\n",
        " 'codigo_hora',\n",
        " 'codigo_lugar',\n",
        " 'presencia_victima',\n",
        " 'observacion_delito',\n",
        " 'victima_acompaniada',\n",
        " 'numero_delin',\n",
        " 'delin_hombres',\n",
        " 'delin_mujeres',\n",
        " 'codigo_edad_delin',\n",
        " 'recon_delin',\n",
        " 'delin_drogado',\n",
        " 'delin_alcoholizado',\n",
        " 'delin_otra_influencia',\n",
        " 'delin_sobrios',\n",
        " 'delin_armado',\n",
        " 'arma_fuego',\n",
        " 'arma_blanca',\n",
        " 'objeto_contundente',\n",
        " 'otra_arma',\n",
        " 'heridas',\n",
        " 'violencia_otro',\n",
        " 'moretones',\n",
        " 'cortadas',\n",
        " 'dislocaciones',\n",
        " 'fracturas',\n",
        " 'quemaduras',\n",
        " 'perdida_conocimiento',\n",
        " 'herida_bala',\n",
        " 'lesion_otro',\n",
        " 'denuncia_mp',\n",
        " 'denuncia_mp_familiar',\n",
        " 'razon_no_denuncia',\n",
        " 'mp_investigacion',\n",
        " 'status_investigacion',\n",
        " 'tiempo_denuncia_tramite',\n",
        " 'razon_denuncia',\n",
        " 'trato_mp',\n",
        " 'denuncia_otra',\n",
        " 'denuncia_911',\n",
        " 'denuncia_por_internet',\n",
        " 'denuncia_email',\n",
        " 'denuncia_msm',\n",
        " 'danio_principal',\n",
        " 'danio_economico',\n",
        " 'gastos_medicos',\n",
        " 'vehiculo_asegurado',\n",
        " 'robo_casa_mobiliario',\n",
        " 'robo_casa_electronica',\n",
        " 'robo_casa_electrodomesticos',\n",
        " 'robo_casa_bolsa',\n",
        " 'robo_casa_joyas',\n",
        " 'robo_casa_dinero',\n",
        " 'robo_casa_docs',\n",
        " 'robo_casa_celular',\n",
        " 'robo_casa_bicicleta',\n",
        " 'robo_casa_otro',\n",
        " 'presencia_robo',\n",
        " 'tipo_fraude',\n",
        " 'medio_extorsion',\n",
        " 'extorsion_dinero',\n",
        " 'extorsion_otro',\n",
        " 'extorsion_nada',\n",
        " 'extorsion_consumada',\n",
        " 'secuestro_consumado',\n",
        " 'rescate_secuestro_pagado',\n",
        " 'tipo_acoso']]"
      ],
      "execution_count": null,
      "outputs": []
    },
    {
      "cell_type": "markdown",
      "metadata": {
        "id": "IQsptNKa-EpF"
      },
      "source": [
        "### Limpieza de los datos dentro de cada variable"
      ]
    },
    {
      "cell_type": "code",
      "metadata": {
        "id": "ktxqERqOrzN-"
      },
      "source": [
        "# codigo_ciudad\n",
        "df_delitos['codigo_ciudad'] = pd.to_numeric(df_delitos['codigo_ciudad'], errors = 'coerce')\n",
        "df_delitos['codigo_ciudad'] = df_delitos['codigo_ciudad'].fillna(99) # Reemplazamos los NA por 99 puesto que el 99 \n",
        "                                                                     # es nuestro código para identificar aquellos datos \n",
        "                                                                     # en el que no hubo respuesta\n",
        "df_delitos['codigo_ciudad'] = df_delitos['codigo_ciudad'].astype(int)"
      ],
      "execution_count": null,
      "outputs": []
    },
    {
      "cell_type": "code",
      "metadata": {
        "id": "g0V49WHsTIjj"
      },
      "source": [
        "# codigo_municipio\n",
        "df_delitos['codigo_municipio'] = pd.to_numeric(df_delitos['codigo_municipio'], errors = 'coerce')\n",
        "df_delitos['codigo_municipio'] = df_delitos['codigo_municipio'].fillna(99) # Reemplazamos los NA por 99 puesto que el 99 \n",
        "                                                                     # es nuestro código para identificar aquellos datos \n",
        "                                                                     # en el que no hubo respuesta\n",
        "df_delitos['codigo_municipio'] = df_delitos['codigo_municipio'].astype(int)"
      ],
      "execution_count": null,
      "outputs": []
    },
    {
      "cell_type": "code",
      "metadata": {
        "id": "CMm2eI9bTcZb"
      },
      "source": [
        "# codigo_delito\n",
        "df_delitos['codigo_delito'] = pd.to_numeric(df_delitos['codigo_delito'], errors = 'coerce')\n",
        "df_delitos['codigo_delito'] = df_delitos['codigo_delito'].fillna(99) # Reemplazamos los NA por 99 puesto que el 99 \n",
        "                                                                     # es nuestro código para identificar aquellos datos \n",
        "                                                                     # en el que no hubo respuesta\n",
        "df_delitos['codigo_delito'] = df_delitos['codigo_delito'].astype(int)"
      ],
      "execution_count": null,
      "outputs": []
    },
    {
      "cell_type": "code",
      "metadata": {
        "colab": {
          "base_uri": "https://localhost:8080/"
        },
        "id": "SanI2ve4J_pG",
        "outputId": "76ac57bc-6750-421a-bd88-147de873f7f0"
      },
      "source": [
        "# delin_hombres\n",
        "df_delitos['delin_hombres'] = pd.to_numeric(df_delitos['delin_hombres'], errors = 'coerce')\n",
        "df_delitos['delin_hombres'] = df_delitos['delin_hombres'].fillna(99)\n",
        "df_delitos['delin_hombres'] = df_delitos['delin_hombres'].astype(int)\n",
        "\n",
        "df_delitos['delin_hombres'][df_delitos['delin_hombres'] == 0] = 99\n",
        "\n",
        "# delin_mujeres\n",
        "df_delitos['delin_mujeres'] = pd.to_numeric(df_delitos['delin_mujeres'], errors = 'coerce')\n",
        "df_delitos['delin_mujeres'] = df_delitos['delin_mujeres'].fillna(99)\n",
        "df_delitos['delin_mujeres'] = df_delitos['delin_mujeres'].astype(int)\n",
        "\n",
        "df_delitos['delin_mujeres'][df_delitos['delin_mujeres'] == 0] = 99\n",
        "\n",
        "df_delitos.insert(18, 'sexo_delin', 99)"
      ],
      "execution_count": null,
      "outputs": [
        {
          "output_type": "stream",
          "text": [
            "/usr/local/lib/python3.7/dist-packages/ipykernel_launcher.py:6: SettingWithCopyWarning: \n",
            "A value is trying to be set on a copy of a slice from a DataFrame\n",
            "\n",
            "See the caveats in the documentation: https://pandas.pydata.org/pandas-docs/stable/user_guide/indexing.html#returning-a-view-versus-a-copy\n",
            "  \n",
            "/usr/local/lib/python3.7/dist-packages/ipykernel_launcher.py:13: SettingWithCopyWarning: \n",
            "A value is trying to be set on a copy of a slice from a DataFrame\n",
            "\n",
            "See the caveats in the documentation: https://pandas.pydata.org/pandas-docs/stable/user_guide/indexing.html#returning-a-view-versus-a-copy\n",
            "  del sys.path[0]\n"
          ],
          "name": "stderr"
        }
      ]
    },
    {
      "cell_type": "markdown",
      "metadata": {
        "id": "uAwrvFL1_UNU"
      },
      "source": [
        "La siguiente función es utilizada para asignar un código al sexo de los delincuentes, en donde:\n",
        "\n",
        "\n",
        "\n",
        "*   1: Representa a las mujeres\n",
        "*   2: Representa a los hombres\n",
        "*   3: Representa si el delito fue cometido tanto por un hombres como por una mujer\n",
        "\n"
      ]
    },
    {
      "cell_type": "code",
      "metadata": {
        "id": "7a_268Xa8L19"
      },
      "source": [
        "def checar_sexo(df):\n",
        "    if df['delin_hombres'] == 1 and df['delin_mujeres'] == 99:\n",
        "        return 2\n",
        "    elif df['delin_hombres'] == 99 and df['delin_mujeres'] == 1:\n",
        "        return 1\n",
        "    elif df['delin_hombres'] == 1 and df['delin_mujeres'] == 1:\n",
        "        return 3\n",
        "    else:\n",
        "        return 99"
      ],
      "execution_count": null,
      "outputs": []
    },
    {
      "cell_type": "markdown",
      "metadata": {
        "id": "idW0VZND_5kv"
      },
      "source": [
        "Utilizamos la función 'apply()' para aplicar la función 'checar_sexo()' dentro de la columna 'sexo_delin'"
      ]
    },
    {
      "cell_type": "code",
      "metadata": {
        "id": "BGH2haW3De0W"
      },
      "source": [
        "df_delitos['sexo_delin'] = df_delitos.apply(checar_sexo, axis = 1) "
      ],
      "execution_count": null,
      "outputs": []
    },
    {
      "cell_type": "code",
      "metadata": {
        "id": "f5UAVVwhSwqE"
      },
      "source": [
        "df_delitos = df_delitos.drop(columns = ['delin_hombres', 'delin_mujeres']) # Eliminamos las columnas de 'delin_hombres' y 'delin_mujeres', ya que estos datos fueron juntados en una nueva columna llamada 'sexo_delin'"
      ],
      "execution_count": null,
      "outputs": []
    },
    {
      "cell_type": "code",
      "metadata": {
        "id": "R4VMVPahhbuC"
      },
      "source": [
        "df_delitos = df_delitos.replace(r'^\\s*$', 'NA', regex=True) # Los espacios en blanco los cambiamos por 'NA'"
      ],
      "execution_count": null,
      "outputs": []
    },
    {
      "cell_type": "code",
      "metadata": {
        "id": "GVoJmyIRht4t"
      },
      "source": [
        "df_delitos = df_delitos.replace(r'NA', 99, regex=True) # Los 'NA' los cambiamos por 99, ya que 99 es nuestro código para cuando NO se registró una respuesta en la base de datos"
      ],
      "execution_count": null,
      "outputs": []
    },
    {
      "cell_type": "code",
      "metadata": {
        "id": "bWeed37lh1SL"
      },
      "source": [
        "df_delitos = df_delitos.replace(r'9', 99, regex=True)"
      ],
      "execution_count": null,
      "outputs": []
    },
    {
      "cell_type": "markdown",
      "metadata": {
        "id": "ZIuSh-fEALlC"
      },
      "source": [
        "Optamos por cambiar nuestra columna Zona para "
      ]
    },
    {
      "cell_type": "code",
      "metadata": {
        "id": "elflMy4gh6u1"
      },
      "source": [
        "zona = {\n",
        "    'R': 1, \n",
        "    'U': 2, \n",
        "    'C': 3\n",
        "}"
      ],
      "execution_count": null,
      "outputs": []
    },
    {
      "cell_type": "code",
      "metadata": {
        "id": "oMzvv-Zsh9VX"
      },
      "source": [
        "df_delitos['zona_vivienda'] = df_delitos['zona_vivienda'].map(zona)"
      ],
      "execution_count": null,
      "outputs": []
    },
    {
      "cell_type": "code",
      "metadata": {
        "id": "9s5zZ4bIiAwf"
      },
      "source": [
        "for columna in df_delitos.columns.to_list():\n",
        "  df_delitos[columna] = pd.to_numeric(df_delitos[columna], errors='coerce')\n",
        "  df_delitos[columna] = df_delitos[columna].astype(int)"
      ],
      "execution_count": null,
      "outputs": []
    },
    {
      "cell_type": "code",
      "metadata": {
        "colab": {
          "base_uri": "https://localhost:8080/",
          "height": 437
        },
        "id": "AKUaYVLOiL4X",
        "outputId": "5e8e783a-5ee0-4490-b05b-bf9ab2c92be2"
      },
      "source": [
        "df_delitos"
      ],
      "execution_count": null,
      "outputs": [
        {
          "output_type": "execute_result",
          "data": {
            "text/html": [
              "<div>\n",
              "<style scoped>\n",
              "    .dataframe tbody tr th:only-of-type {\n",
              "        vertical-align: middle;\n",
              "    }\n",
              "\n",
              "    .dataframe tbody tr th {\n",
              "        vertical-align: top;\n",
              "    }\n",
              "\n",
              "    .dataframe thead th {\n",
              "        text-align: right;\n",
              "    }\n",
              "</style>\n",
              "<table border=\"1\" class=\"dataframe\">\n",
              "  <thead>\n",
              "    <tr style=\"text-align: right;\">\n",
              "      <th></th>\n",
              "      <th>anio</th>\n",
              "      <th>sexo</th>\n",
              "      <th>edad</th>\n",
              "      <th>codigo_ciudad</th>\n",
              "      <th>codigo_estado</th>\n",
              "      <th>codigo_municipio</th>\n",
              "      <th>zona_vivienda</th>\n",
              "      <th>clase_social</th>\n",
              "      <th>codigo_delito</th>\n",
              "      <th>mes_delito</th>\n",
              "      <th>codigo_hora</th>\n",
              "      <th>codigo_lugar</th>\n",
              "      <th>presencia_victima</th>\n",
              "      <th>observacion_delito</th>\n",
              "      <th>victima_acompaniada</th>\n",
              "      <th>numero_delin</th>\n",
              "      <th>sexo_delin</th>\n",
              "      <th>codigo_edad_delin</th>\n",
              "      <th>recon_delin</th>\n",
              "      <th>delin_drogado</th>\n",
              "      <th>delin_alcoholizado</th>\n",
              "      <th>delin_otra_influencia</th>\n",
              "      <th>delin_sobrios</th>\n",
              "      <th>delin_armado</th>\n",
              "      <th>arma_fuego</th>\n",
              "      <th>arma_blanca</th>\n",
              "      <th>objeto_contundente</th>\n",
              "      <th>otra_arma</th>\n",
              "      <th>heridas</th>\n",
              "      <th>violencia_otro</th>\n",
              "      <th>moretones</th>\n",
              "      <th>cortadas</th>\n",
              "      <th>dislocaciones</th>\n",
              "      <th>fracturas</th>\n",
              "      <th>quemaduras</th>\n",
              "      <th>perdida_conocimiento</th>\n",
              "      <th>herida_bala</th>\n",
              "      <th>lesion_otro</th>\n",
              "      <th>denuncia_mp</th>\n",
              "      <th>denuncia_mp_familiar</th>\n",
              "      <th>razon_no_denuncia</th>\n",
              "      <th>mp_investigacion</th>\n",
              "      <th>status_investigacion</th>\n",
              "      <th>tiempo_denuncia_tramite</th>\n",
              "      <th>razon_denuncia</th>\n",
              "      <th>trato_mp</th>\n",
              "      <th>denuncia_otra</th>\n",
              "      <th>denuncia_911</th>\n",
              "      <th>denuncia_por_internet</th>\n",
              "      <th>denuncia_email</th>\n",
              "      <th>denuncia_msm</th>\n",
              "      <th>danio_principal</th>\n",
              "      <th>danio_economico</th>\n",
              "      <th>gastos_medicos</th>\n",
              "      <th>vehiculo_asegurado</th>\n",
              "      <th>robo_casa_mobiliario</th>\n",
              "      <th>robo_casa_electronica</th>\n",
              "      <th>robo_casa_electrodomesticos</th>\n",
              "      <th>robo_casa_bolsa</th>\n",
              "      <th>robo_casa_joyas</th>\n",
              "      <th>robo_casa_dinero</th>\n",
              "      <th>robo_casa_docs</th>\n",
              "      <th>robo_casa_celular</th>\n",
              "      <th>robo_casa_bicicleta</th>\n",
              "      <th>robo_casa_otro</th>\n",
              "      <th>presencia_robo</th>\n",
              "      <th>tipo_fraude</th>\n",
              "      <th>medio_extorsion</th>\n",
              "      <th>extorsion_dinero</th>\n",
              "      <th>extorsion_otro</th>\n",
              "      <th>extorsion_nada</th>\n",
              "      <th>extorsion_consumada</th>\n",
              "      <th>secuestro_consumado</th>\n",
              "      <th>rescate_secuestro_pagado</th>\n",
              "      <th>tipo_acoso</th>\n",
              "    </tr>\n",
              "  </thead>\n",
              "  <tbody>\n",
              "    <tr>\n",
              "      <th>0</th>\n",
              "      <td>2018</td>\n",
              "      <td>1</td>\n",
              "      <td>31</td>\n",
              "      <td>14</td>\n",
              "      <td>1</td>\n",
              "      <td>1</td>\n",
              "      <td>2</td>\n",
              "      <td>3</td>\n",
              "      <td>2</td>\n",
              "      <td>4</td>\n",
              "      <td>4</td>\n",
              "      <td>1</td>\n",
              "      <td>2</td>\n",
              "      <td>99</td>\n",
              "      <td>99</td>\n",
              "      <td>99</td>\n",
              "      <td>99</td>\n",
              "      <td>99</td>\n",
              "      <td>99</td>\n",
              "      <td>99</td>\n",
              "      <td>99</td>\n",
              "      <td>99</td>\n",
              "      <td>99</td>\n",
              "      <td>99</td>\n",
              "      <td>99</td>\n",
              "      <td>99</td>\n",
              "      <td>99</td>\n",
              "      <td>99</td>\n",
              "      <td>99</td>\n",
              "      <td>99</td>\n",
              "      <td>99</td>\n",
              "      <td>99</td>\n",
              "      <td>99</td>\n",
              "      <td>99</td>\n",
              "      <td>99</td>\n",
              "      <td>99</td>\n",
              "      <td>99</td>\n",
              "      <td>99</td>\n",
              "      <td>2</td>\n",
              "      <td>2</td>\n",
              "      <td>4</td>\n",
              "      <td>99</td>\n",
              "      <td>99</td>\n",
              "      <td>99</td>\n",
              "      <td>99</td>\n",
              "      <td>99</td>\n",
              "      <td>2</td>\n",
              "      <td>99</td>\n",
              "      <td>99</td>\n",
              "      <td>99</td>\n",
              "      <td>99</td>\n",
              "      <td>1</td>\n",
              "      <td>500</td>\n",
              "      <td>0</td>\n",
              "      <td>99</td>\n",
              "      <td>99</td>\n",
              "      <td>99</td>\n",
              "      <td>99</td>\n",
              "      <td>99</td>\n",
              "      <td>99</td>\n",
              "      <td>99</td>\n",
              "      <td>99</td>\n",
              "      <td>99</td>\n",
              "      <td>99</td>\n",
              "      <td>99</td>\n",
              "      <td>99</td>\n",
              "      <td>99</td>\n",
              "      <td>99</td>\n",
              "      <td>99</td>\n",
              "      <td>99</td>\n",
              "      <td>99</td>\n",
              "      <td>99</td>\n",
              "      <td>99</td>\n",
              "      <td>99</td>\n",
              "      <td>99</td>\n",
              "    </tr>\n",
              "    <tr>\n",
              "      <th>1</th>\n",
              "      <td>2018</td>\n",
              "      <td>1</td>\n",
              "      <td>31</td>\n",
              "      <td>14</td>\n",
              "      <td>1</td>\n",
              "      <td>1</td>\n",
              "      <td>2</td>\n",
              "      <td>3</td>\n",
              "      <td>1</td>\n",
              "      <td>10</td>\n",
              "      <td>3</td>\n",
              "      <td>1</td>\n",
              "      <td>2</td>\n",
              "      <td>99</td>\n",
              "      <td>99</td>\n",
              "      <td>99</td>\n",
              "      <td>99</td>\n",
              "      <td>99</td>\n",
              "      <td>99</td>\n",
              "      <td>99</td>\n",
              "      <td>99</td>\n",
              "      <td>99</td>\n",
              "      <td>99</td>\n",
              "      <td>99</td>\n",
              "      <td>99</td>\n",
              "      <td>99</td>\n",
              "      <td>99</td>\n",
              "      <td>99</td>\n",
              "      <td>99</td>\n",
              "      <td>99</td>\n",
              "      <td>99</td>\n",
              "      <td>99</td>\n",
              "      <td>99</td>\n",
              "      <td>99</td>\n",
              "      <td>99</td>\n",
              "      <td>99</td>\n",
              "      <td>99</td>\n",
              "      <td>99</td>\n",
              "      <td>1</td>\n",
              "      <td>99</td>\n",
              "      <td>99</td>\n",
              "      <td>1</td>\n",
              "      <td>3</td>\n",
              "      <td>4</td>\n",
              "      <td>2</td>\n",
              "      <td>4</td>\n",
              "      <td>2</td>\n",
              "      <td>1</td>\n",
              "      <td>0</td>\n",
              "      <td>0</td>\n",
              "      <td>0</td>\n",
              "      <td>1</td>\n",
              "      <td>3800</td>\n",
              "      <td>0</td>\n",
              "      <td>2</td>\n",
              "      <td>99</td>\n",
              "      <td>99</td>\n",
              "      <td>99</td>\n",
              "      <td>99</td>\n",
              "      <td>99</td>\n",
              "      <td>99</td>\n",
              "      <td>99</td>\n",
              "      <td>99</td>\n",
              "      <td>99</td>\n",
              "      <td>99</td>\n",
              "      <td>99</td>\n",
              "      <td>99</td>\n",
              "      <td>99</td>\n",
              "      <td>99</td>\n",
              "      <td>99</td>\n",
              "      <td>99</td>\n",
              "      <td>99</td>\n",
              "      <td>99</td>\n",
              "      <td>99</td>\n",
              "      <td>99</td>\n",
              "    </tr>\n",
              "    <tr>\n",
              "      <th>2</th>\n",
              "      <td>2018</td>\n",
              "      <td>1</td>\n",
              "      <td>31</td>\n",
              "      <td>14</td>\n",
              "      <td>1</td>\n",
              "      <td>1</td>\n",
              "      <td>2</td>\n",
              "      <td>3</td>\n",
              "      <td>2</td>\n",
              "      <td>5</td>\n",
              "      <td>2</td>\n",
              "      <td>1</td>\n",
              "      <td>2</td>\n",
              "      <td>99</td>\n",
              "      <td>99</td>\n",
              "      <td>99</td>\n",
              "      <td>99</td>\n",
              "      <td>99</td>\n",
              "      <td>99</td>\n",
              "      <td>99</td>\n",
              "      <td>99</td>\n",
              "      <td>99</td>\n",
              "      <td>99</td>\n",
              "      <td>99</td>\n",
              "      <td>99</td>\n",
              "      <td>99</td>\n",
              "      <td>99</td>\n",
              "      <td>99</td>\n",
              "      <td>99</td>\n",
              "      <td>99</td>\n",
              "      <td>99</td>\n",
              "      <td>99</td>\n",
              "      <td>99</td>\n",
              "      <td>99</td>\n",
              "      <td>99</td>\n",
              "      <td>99</td>\n",
              "      <td>99</td>\n",
              "      <td>99</td>\n",
              "      <td>2</td>\n",
              "      <td>2</td>\n",
              "      <td>4</td>\n",
              "      <td>99</td>\n",
              "      <td>99</td>\n",
              "      <td>99</td>\n",
              "      <td>99</td>\n",
              "      <td>99</td>\n",
              "      <td>2</td>\n",
              "      <td>99</td>\n",
              "      <td>99</td>\n",
              "      <td>99</td>\n",
              "      <td>99</td>\n",
              "      <td>1</td>\n",
              "      <td>4000</td>\n",
              "      <td>0</td>\n",
              "      <td>99</td>\n",
              "      <td>99</td>\n",
              "      <td>99</td>\n",
              "      <td>99</td>\n",
              "      <td>99</td>\n",
              "      <td>99</td>\n",
              "      <td>99</td>\n",
              "      <td>99</td>\n",
              "      <td>99</td>\n",
              "      <td>99</td>\n",
              "      <td>99</td>\n",
              "      <td>99</td>\n",
              "      <td>99</td>\n",
              "      <td>99</td>\n",
              "      <td>99</td>\n",
              "      <td>99</td>\n",
              "      <td>99</td>\n",
              "      <td>99</td>\n",
              "      <td>99</td>\n",
              "      <td>99</td>\n",
              "      <td>99</td>\n",
              "    </tr>\n",
              "    <tr>\n",
              "      <th>3</th>\n",
              "      <td>2018</td>\n",
              "      <td>1</td>\n",
              "      <td>31</td>\n",
              "      <td>14</td>\n",
              "      <td>1</td>\n",
              "      <td>1</td>\n",
              "      <td>2</td>\n",
              "      <td>3</td>\n",
              "      <td>11</td>\n",
              "      <td>5</td>\n",
              "      <td>3</td>\n",
              "      <td>1</td>\n",
              "      <td>1</td>\n",
              "      <td>1</td>\n",
              "      <td>2</td>\n",
              "      <td>4</td>\n",
              "      <td>2</td>\n",
              "      <td>3</td>\n",
              "      <td>2</td>\n",
              "      <td>0</td>\n",
              "      <td>0</td>\n",
              "      <td>0</td>\n",
              "      <td>0</td>\n",
              "      <td>1</td>\n",
              "      <td>0</td>\n",
              "      <td>1</td>\n",
              "      <td>0</td>\n",
              "      <td>0</td>\n",
              "      <td>2</td>\n",
              "      <td>1</td>\n",
              "      <td>1</td>\n",
              "      <td>0</td>\n",
              "      <td>0</td>\n",
              "      <td>0</td>\n",
              "      <td>0</td>\n",
              "      <td>0</td>\n",
              "      <td>0</td>\n",
              "      <td>0</td>\n",
              "      <td>2</td>\n",
              "      <td>99</td>\n",
              "      <td>4</td>\n",
              "      <td>99</td>\n",
              "      <td>99</td>\n",
              "      <td>99</td>\n",
              "      <td>99</td>\n",
              "      <td>99</td>\n",
              "      <td>2</td>\n",
              "      <td>99</td>\n",
              "      <td>99</td>\n",
              "      <td>99</td>\n",
              "      <td>99</td>\n",
              "      <td>2</td>\n",
              "      <td>0</td>\n",
              "      <td>0</td>\n",
              "      <td>99</td>\n",
              "      <td>99</td>\n",
              "      <td>99</td>\n",
              "      <td>99</td>\n",
              "      <td>99</td>\n",
              "      <td>99</td>\n",
              "      <td>99</td>\n",
              "      <td>99</td>\n",
              "      <td>99</td>\n",
              "      <td>99</td>\n",
              "      <td>99</td>\n",
              "      <td>99</td>\n",
              "      <td>99</td>\n",
              "      <td>99</td>\n",
              "      <td>99</td>\n",
              "      <td>99</td>\n",
              "      <td>99</td>\n",
              "      <td>99</td>\n",
              "      <td>99</td>\n",
              "      <td>99</td>\n",
              "      <td>99</td>\n",
              "    </tr>\n",
              "    <tr>\n",
              "      <th>4</th>\n",
              "      <td>2018</td>\n",
              "      <td>1</td>\n",
              "      <td>31</td>\n",
              "      <td>14</td>\n",
              "      <td>1</td>\n",
              "      <td>1</td>\n",
              "      <td>2</td>\n",
              "      <td>3</td>\n",
              "      <td>7</td>\n",
              "      <td>6</td>\n",
              "      <td>1</td>\n",
              "      <td>1</td>\n",
              "      <td>99</td>\n",
              "      <td>99</td>\n",
              "      <td>99</td>\n",
              "      <td>99</td>\n",
              "      <td>99</td>\n",
              "      <td>99</td>\n",
              "      <td>99</td>\n",
              "      <td>99</td>\n",
              "      <td>99</td>\n",
              "      <td>99</td>\n",
              "      <td>99</td>\n",
              "      <td>99</td>\n",
              "      <td>99</td>\n",
              "      <td>99</td>\n",
              "      <td>99</td>\n",
              "      <td>99</td>\n",
              "      <td>99</td>\n",
              "      <td>99</td>\n",
              "      <td>99</td>\n",
              "      <td>99</td>\n",
              "      <td>99</td>\n",
              "      <td>99</td>\n",
              "      <td>99</td>\n",
              "      <td>99</td>\n",
              "      <td>99</td>\n",
              "      <td>99</td>\n",
              "      <td>2</td>\n",
              "      <td>99</td>\n",
              "      <td>4</td>\n",
              "      <td>99</td>\n",
              "      <td>99</td>\n",
              "      <td>99</td>\n",
              "      <td>99</td>\n",
              "      <td>99</td>\n",
              "      <td>2</td>\n",
              "      <td>99</td>\n",
              "      <td>99</td>\n",
              "      <td>99</td>\n",
              "      <td>99</td>\n",
              "      <td>1</td>\n",
              "      <td>700</td>\n",
              "      <td>0</td>\n",
              "      <td>99</td>\n",
              "      <td>99</td>\n",
              "      <td>99</td>\n",
              "      <td>99</td>\n",
              "      <td>99</td>\n",
              "      <td>99</td>\n",
              "      <td>99</td>\n",
              "      <td>99</td>\n",
              "      <td>99</td>\n",
              "      <td>99</td>\n",
              "      <td>99</td>\n",
              "      <td>99</td>\n",
              "      <td>4</td>\n",
              "      <td>99</td>\n",
              "      <td>99</td>\n",
              "      <td>99</td>\n",
              "      <td>99</td>\n",
              "      <td>99</td>\n",
              "      <td>99</td>\n",
              "      <td>99</td>\n",
              "      <td>99</td>\n",
              "    </tr>\n",
              "    <tr>\n",
              "      <th>...</th>\n",
              "      <td>...</td>\n",
              "      <td>...</td>\n",
              "      <td>...</td>\n",
              "      <td>...</td>\n",
              "      <td>...</td>\n",
              "      <td>...</td>\n",
              "      <td>...</td>\n",
              "      <td>...</td>\n",
              "      <td>...</td>\n",
              "      <td>...</td>\n",
              "      <td>...</td>\n",
              "      <td>...</td>\n",
              "      <td>...</td>\n",
              "      <td>...</td>\n",
              "      <td>...</td>\n",
              "      <td>...</td>\n",
              "      <td>...</td>\n",
              "      <td>...</td>\n",
              "      <td>...</td>\n",
              "      <td>...</td>\n",
              "      <td>...</td>\n",
              "      <td>...</td>\n",
              "      <td>...</td>\n",
              "      <td>...</td>\n",
              "      <td>...</td>\n",
              "      <td>...</td>\n",
              "      <td>...</td>\n",
              "      <td>...</td>\n",
              "      <td>...</td>\n",
              "      <td>...</td>\n",
              "      <td>...</td>\n",
              "      <td>...</td>\n",
              "      <td>...</td>\n",
              "      <td>...</td>\n",
              "      <td>...</td>\n",
              "      <td>...</td>\n",
              "      <td>...</td>\n",
              "      <td>...</td>\n",
              "      <td>...</td>\n",
              "      <td>...</td>\n",
              "      <td>...</td>\n",
              "      <td>...</td>\n",
              "      <td>...</td>\n",
              "      <td>...</td>\n",
              "      <td>...</td>\n",
              "      <td>...</td>\n",
              "      <td>...</td>\n",
              "      <td>...</td>\n",
              "      <td>...</td>\n",
              "      <td>...</td>\n",
              "      <td>...</td>\n",
              "      <td>...</td>\n",
              "      <td>...</td>\n",
              "      <td>...</td>\n",
              "      <td>...</td>\n",
              "      <td>...</td>\n",
              "      <td>...</td>\n",
              "      <td>...</td>\n",
              "      <td>...</td>\n",
              "      <td>...</td>\n",
              "      <td>...</td>\n",
              "      <td>...</td>\n",
              "      <td>...</td>\n",
              "      <td>...</td>\n",
              "      <td>...</td>\n",
              "      <td>...</td>\n",
              "      <td>...</td>\n",
              "      <td>...</td>\n",
              "      <td>...</td>\n",
              "      <td>...</td>\n",
              "      <td>...</td>\n",
              "      <td>...</td>\n",
              "      <td>...</td>\n",
              "      <td>...</td>\n",
              "      <td>...</td>\n",
              "    </tr>\n",
              "    <tr>\n",
              "      <th>131600</th>\n",
              "      <td>2020</td>\n",
              "      <td>1</td>\n",
              "      <td>43</td>\n",
              "      <td>99</td>\n",
              "      <td>29</td>\n",
              "      <td>13</td>\n",
              "      <td>3</td>\n",
              "      <td>2</td>\n",
              "      <td>5</td>\n",
              "      <td>6</td>\n",
              "      <td>1</td>\n",
              "      <td>1</td>\n",
              "      <td>1</td>\n",
              "      <td>1</td>\n",
              "      <td>2</td>\n",
              "      <td>2</td>\n",
              "      <td>2</td>\n",
              "      <td>4</td>\n",
              "      <td>2</td>\n",
              "      <td>1</td>\n",
              "      <td>0</td>\n",
              "      <td>0</td>\n",
              "      <td>0</td>\n",
              "      <td>1</td>\n",
              "      <td>1</td>\n",
              "      <td>0</td>\n",
              "      <td>0</td>\n",
              "      <td>0</td>\n",
              "      <td>2</td>\n",
              "      <td>1</td>\n",
              "      <td>1</td>\n",
              "      <td>0</td>\n",
              "      <td>0</td>\n",
              "      <td>0</td>\n",
              "      <td>0</td>\n",
              "      <td>0</td>\n",
              "      <td>0</td>\n",
              "      <td>0</td>\n",
              "      <td>1</td>\n",
              "      <td>99</td>\n",
              "      <td>99</td>\n",
              "      <td>1</td>\n",
              "      <td>2</td>\n",
              "      <td>4</td>\n",
              "      <td>1</td>\n",
              "      <td>2</td>\n",
              "      <td>2</td>\n",
              "      <td>1</td>\n",
              "      <td>0</td>\n",
              "      <td>0</td>\n",
              "      <td>0</td>\n",
              "      <td>1</td>\n",
              "      <td>200000</td>\n",
              "      <td>0</td>\n",
              "      <td>99</td>\n",
              "      <td>0</td>\n",
              "      <td>0</td>\n",
              "      <td>0</td>\n",
              "      <td>0</td>\n",
              "      <td>1</td>\n",
              "      <td>0</td>\n",
              "      <td>0</td>\n",
              "      <td>1</td>\n",
              "      <td>0</td>\n",
              "      <td>0</td>\n",
              "      <td>99</td>\n",
              "      <td>99</td>\n",
              "      <td>99</td>\n",
              "      <td>99</td>\n",
              "      <td>99</td>\n",
              "      <td>99</td>\n",
              "      <td>99</td>\n",
              "      <td>99</td>\n",
              "      <td>99</td>\n",
              "      <td>99</td>\n",
              "    </tr>\n",
              "    <tr>\n",
              "      <th>131601</th>\n",
              "      <td>2020</td>\n",
              "      <td>2</td>\n",
              "      <td>25</td>\n",
              "      <td>99</td>\n",
              "      <td>30</td>\n",
              "      <td>87</td>\n",
              "      <td>2</td>\n",
              "      <td>3</td>\n",
              "      <td>5</td>\n",
              "      <td>7</td>\n",
              "      <td>1</td>\n",
              "      <td>5</td>\n",
              "      <td>1</td>\n",
              "      <td>1</td>\n",
              "      <td>2</td>\n",
              "      <td>1</td>\n",
              "      <td>2</td>\n",
              "      <td>3</td>\n",
              "      <td>2</td>\n",
              "      <td>0</td>\n",
              "      <td>0</td>\n",
              "      <td>0</td>\n",
              "      <td>0</td>\n",
              "      <td>1</td>\n",
              "      <td>0</td>\n",
              "      <td>1</td>\n",
              "      <td>0</td>\n",
              "      <td>0</td>\n",
              "      <td>2</td>\n",
              "      <td>1</td>\n",
              "      <td>1</td>\n",
              "      <td>0</td>\n",
              "      <td>0</td>\n",
              "      <td>0</td>\n",
              "      <td>0</td>\n",
              "      <td>0</td>\n",
              "      <td>0</td>\n",
              "      <td>0</td>\n",
              "      <td>2</td>\n",
              "      <td>99</td>\n",
              "      <td>6</td>\n",
              "      <td>99</td>\n",
              "      <td>99</td>\n",
              "      <td>99</td>\n",
              "      <td>99</td>\n",
              "      <td>99</td>\n",
              "      <td>2</td>\n",
              "      <td>99</td>\n",
              "      <td>99</td>\n",
              "      <td>99</td>\n",
              "      <td>99</td>\n",
              "      <td>1</td>\n",
              "      <td>8000</td>\n",
              "      <td>0</td>\n",
              "      <td>99</td>\n",
              "      <td>0</td>\n",
              "      <td>0</td>\n",
              "      <td>0</td>\n",
              "      <td>0</td>\n",
              "      <td>0</td>\n",
              "      <td>1</td>\n",
              "      <td>0</td>\n",
              "      <td>1</td>\n",
              "      <td>0</td>\n",
              "      <td>0</td>\n",
              "      <td>99</td>\n",
              "      <td>99</td>\n",
              "      <td>99</td>\n",
              "      <td>99</td>\n",
              "      <td>99</td>\n",
              "      <td>99</td>\n",
              "      <td>99</td>\n",
              "      <td>99</td>\n",
              "      <td>99</td>\n",
              "      <td>99</td>\n",
              "    </tr>\n",
              "    <tr>\n",
              "      <th>131602</th>\n",
              "      <td>2020</td>\n",
              "      <td>2</td>\n",
              "      <td>40</td>\n",
              "      <td>99</td>\n",
              "      <td>28</td>\n",
              "      <td>21</td>\n",
              "      <td>2</td>\n",
              "      <td>2</td>\n",
              "      <td>5</td>\n",
              "      <td>6</td>\n",
              "      <td>1</td>\n",
              "      <td>5</td>\n",
              "      <td>1</td>\n",
              "      <td>1</td>\n",
              "      <td>2</td>\n",
              "      <td>2</td>\n",
              "      <td>3</td>\n",
              "      <td>5</td>\n",
              "      <td>1</td>\n",
              "      <td>0</td>\n",
              "      <td>0</td>\n",
              "      <td>0</td>\n",
              "      <td>1</td>\n",
              "      <td>2</td>\n",
              "      <td>99</td>\n",
              "      <td>99</td>\n",
              "      <td>99</td>\n",
              "      <td>99</td>\n",
              "      <td>99</td>\n",
              "      <td>2</td>\n",
              "      <td>99</td>\n",
              "      <td>99</td>\n",
              "      <td>99</td>\n",
              "      <td>99</td>\n",
              "      <td>99</td>\n",
              "      <td>99</td>\n",
              "      <td>99</td>\n",
              "      <td>99</td>\n",
              "      <td>1</td>\n",
              "      <td>99</td>\n",
              "      <td>99</td>\n",
              "      <td>1</td>\n",
              "      <td>3</td>\n",
              "      <td>4</td>\n",
              "      <td>2</td>\n",
              "      <td>1</td>\n",
              "      <td>2</td>\n",
              "      <td>0</td>\n",
              "      <td>0</td>\n",
              "      <td>0</td>\n",
              "      <td>0</td>\n",
              "      <td>1</td>\n",
              "      <td>0</td>\n",
              "      <td>0</td>\n",
              "      <td>99</td>\n",
              "      <td>0</td>\n",
              "      <td>0</td>\n",
              "      <td>0</td>\n",
              "      <td>0</td>\n",
              "      <td>0</td>\n",
              "      <td>1</td>\n",
              "      <td>0</td>\n",
              "      <td>0</td>\n",
              "      <td>0</td>\n",
              "      <td>0</td>\n",
              "      <td>99</td>\n",
              "      <td>99</td>\n",
              "      <td>99</td>\n",
              "      <td>99</td>\n",
              "      <td>99</td>\n",
              "      <td>99</td>\n",
              "      <td>99</td>\n",
              "      <td>99</td>\n",
              "      <td>99</td>\n",
              "      <td>99</td>\n",
              "    </tr>\n",
              "    <tr>\n",
              "      <th>131603</th>\n",
              "      <td>2020</td>\n",
              "      <td>1</td>\n",
              "      <td>20</td>\n",
              "      <td>99</td>\n",
              "      <td>29</td>\n",
              "      <td>13</td>\n",
              "      <td>3</td>\n",
              "      <td>2</td>\n",
              "      <td>5</td>\n",
              "      <td>1</td>\n",
              "      <td>1</td>\n",
              "      <td>1</td>\n",
              "      <td>1</td>\n",
              "      <td>1</td>\n",
              "      <td>2</td>\n",
              "      <td>2</td>\n",
              "      <td>2</td>\n",
              "      <td>99</td>\n",
              "      <td>2</td>\n",
              "      <td>0</td>\n",
              "      <td>0</td>\n",
              "      <td>0</td>\n",
              "      <td>1</td>\n",
              "      <td>1</td>\n",
              "      <td>1</td>\n",
              "      <td>0</td>\n",
              "      <td>0</td>\n",
              "      <td>0</td>\n",
              "      <td>2</td>\n",
              "      <td>2</td>\n",
              "      <td>99</td>\n",
              "      <td>99</td>\n",
              "      <td>99</td>\n",
              "      <td>99</td>\n",
              "      <td>99</td>\n",
              "      <td>99</td>\n",
              "      <td>99</td>\n",
              "      <td>99</td>\n",
              "      <td>2</td>\n",
              "      <td>99</td>\n",
              "      <td>5</td>\n",
              "      <td>99</td>\n",
              "      <td>99</td>\n",
              "      <td>99</td>\n",
              "      <td>99</td>\n",
              "      <td>99</td>\n",
              "      <td>2</td>\n",
              "      <td>99</td>\n",
              "      <td>99</td>\n",
              "      <td>99</td>\n",
              "      <td>99</td>\n",
              "      <td>1</td>\n",
              "      <td>800</td>\n",
              "      <td>0</td>\n",
              "      <td>99</td>\n",
              "      <td>0</td>\n",
              "      <td>0</td>\n",
              "      <td>0</td>\n",
              "      <td>0</td>\n",
              "      <td>0</td>\n",
              "      <td>1</td>\n",
              "      <td>0</td>\n",
              "      <td>0</td>\n",
              "      <td>0</td>\n",
              "      <td>0</td>\n",
              "      <td>99</td>\n",
              "      <td>99</td>\n",
              "      <td>99</td>\n",
              "      <td>99</td>\n",
              "      <td>99</td>\n",
              "      <td>99</td>\n",
              "      <td>99</td>\n",
              "      <td>99</td>\n",
              "      <td>99</td>\n",
              "      <td>99</td>\n",
              "    </tr>\n",
              "    <tr>\n",
              "      <th>131604</th>\n",
              "      <td>2020</td>\n",
              "      <td>2</td>\n",
              "      <td>27</td>\n",
              "      <td>99</td>\n",
              "      <td>27</td>\n",
              "      <td>6</td>\n",
              "      <td>1</td>\n",
              "      <td>1</td>\n",
              "      <td>6</td>\n",
              "      <td>2</td>\n",
              "      <td>1</td>\n",
              "      <td>8</td>\n",
              "      <td>1</td>\n",
              "      <td>1</td>\n",
              "      <td>1</td>\n",
              "      <td>2</td>\n",
              "      <td>2</td>\n",
              "      <td>5</td>\n",
              "      <td>2</td>\n",
              "      <td>0</td>\n",
              "      <td>0</td>\n",
              "      <td>0</td>\n",
              "      <td>1</td>\n",
              "      <td>1</td>\n",
              "      <td>1</td>\n",
              "      <td>0</td>\n",
              "      <td>0</td>\n",
              "      <td>0</td>\n",
              "      <td>2</td>\n",
              "      <td>2</td>\n",
              "      <td>99</td>\n",
              "      <td>99</td>\n",
              "      <td>99</td>\n",
              "      <td>99</td>\n",
              "      <td>99</td>\n",
              "      <td>99</td>\n",
              "      <td>99</td>\n",
              "      <td>99</td>\n",
              "      <td>2</td>\n",
              "      <td>99</td>\n",
              "      <td>99</td>\n",
              "      <td>99</td>\n",
              "      <td>99</td>\n",
              "      <td>99</td>\n",
              "      <td>99</td>\n",
              "      <td>99</td>\n",
              "      <td>2</td>\n",
              "      <td>99</td>\n",
              "      <td>99</td>\n",
              "      <td>99</td>\n",
              "      <td>99</td>\n",
              "      <td>1</td>\n",
              "      <td>2500</td>\n",
              "      <td>0</td>\n",
              "      <td>99</td>\n",
              "      <td>0</td>\n",
              "      <td>0</td>\n",
              "      <td>0</td>\n",
              "      <td>0</td>\n",
              "      <td>0</td>\n",
              "      <td>1</td>\n",
              "      <td>0</td>\n",
              "      <td>1</td>\n",
              "      <td>0</td>\n",
              "      <td>0</td>\n",
              "      <td>99</td>\n",
              "      <td>99</td>\n",
              "      <td>99</td>\n",
              "      <td>99</td>\n",
              "      <td>99</td>\n",
              "      <td>99</td>\n",
              "      <td>99</td>\n",
              "      <td>99</td>\n",
              "      <td>99</td>\n",
              "      <td>99</td>\n",
              "    </tr>\n",
              "  </tbody>\n",
              "</table>\n",
              "<p>131605 rows × 75 columns</p>\n",
              "</div>"
            ],
            "text/plain": [
              "        anio  sexo  ...  rescate_secuestro_pagado  tipo_acoso\n",
              "0       2018     1  ...                        99          99\n",
              "1       2018     1  ...                        99          99\n",
              "2       2018     1  ...                        99          99\n",
              "3       2018     1  ...                        99          99\n",
              "4       2018     1  ...                        99          99\n",
              "...      ...   ...  ...                       ...         ...\n",
              "131600  2020     1  ...                        99          99\n",
              "131601  2020     2  ...                        99          99\n",
              "131602  2020     2  ...                        99          99\n",
              "131603  2020     1  ...                        99          99\n",
              "131604  2020     2  ...                        99          99\n",
              "\n",
              "[131605 rows x 75 columns]"
            ]
          },
          "metadata": {
            "tags": []
          },
          "execution_count": 25
        }
      ]
    },
    {
      "cell_type": "markdown",
      "metadata": {
        "id": "3CxxSoM0ai0M"
      },
      "source": [
        "### Filtros con respuestas a las preguntas planteadas en el Postwork 2"
      ]
    },
    {
      "cell_type": "code",
      "metadata": {
        "id": "Aj788KI7VAYR"
      },
      "source": [
        "def sustancias_adictivas(df):\n",
        "    personas_s_a = 0\n",
        "    for i in range(len(df['delin_drogado'])):\n",
        "        if df['delin_drogado'][i] == 1 or df['delin_alcoholizado'][i] == 1 or df['delin_otra_influencia'][i] == 1:\n",
        "            personas_s_a += 1\n",
        "    return personas_s_a "
      ],
      "execution_count": null,
      "outputs": []
    },
    {
      "cell_type": "code",
      "metadata": {
        "colab": {
          "base_uri": "https://localhost:8080/"
        },
        "id": "RNttMk69VaOt",
        "outputId": "3aff0d7f-b653-4ce1-b0af-002679ffbe04"
      },
      "source": [
        "print(f'El total de delitos cometidos bajo sustancias adictivas es: {sustancias_adictivas(df_delitos)}\\\n",
        "      \\nEl porcentaje de delitos cometidos bajo sustancias adictivas es: {round(sustancias_adictivas(df_delitos) * 100 / len(df_delitos), 2)}%')"
      ],
      "execution_count": null,
      "outputs": [
        {
          "output_type": "stream",
          "text": [
            "El total de delitos cometidos bajo sustancias adictivas es: 12474      \n",
            "El porcentaje de delitos cometidos bajo sustancias adictivas es: 9.48%\n"
          ],
          "name": "stdout"
        }
      ]
    },
    {
      "cell_type": "code",
      "metadata": {
        "colab": {
          "base_uri": "https://localhost:8080/"
        },
        "id": "g9G6sPdZaeiZ",
        "outputId": "04f7cbb9-7223-4822-a649-a907f5472176"
      },
      "source": [
        "edades = df_delitos['codigo_edad_delin'] != 99\n",
        "\n",
        "edades = df_delitos[edades]\n",
        "\n",
        "print(edades['codigo_edad_delin'].value_counts().head(1))\n",
        "print(f'El rango de edad de los delincuentes donde más se cometen delitos es: {4} que corresponde a las edades de entre 26 y 35 años')"
      ],
      "execution_count": null,
      "outputs": [
        {
          "output_type": "stream",
          "text": [
            "4    14445\n",
            "Name: codigo_edad_delin, dtype: int64\n",
            "El rango de edad de los delincuentes donde más se cometen delitos es: 4 que corresponde a las edades de entre 26 y 35 años\n"
          ],
          "name": "stdout"
        }
      ]
    },
    {
      "cell_type": "code",
      "metadata": {
        "colab": {
          "base_uri": "https://localhost:8080/"
        },
        "id": "kyTk3Fi9b_9N",
        "outputId": "5504c86e-4fe5-474c-f026-f99fbbc6cb3a"
      },
      "source": [
        "sexo = df_delitos[df_delitos['sexo_delin'] != 99]\n",
        "valor_delitos = sexo['sexo_delin'].value_counts().agg('max')\n",
        "\n",
        "print(f'El sexo masculino es el que comete más delitos con {valor_delitos} casos')"
      ],
      "execution_count": null,
      "outputs": [
        {
          "output_type": "stream",
          "text": [
            "El sexo masculino es el que comete más delitos con 39803 casos\n"
          ],
          "name": "stdout"
        }
      ]
    },
    {
      "cell_type": "code",
      "metadata": {
        "colab": {
          "base_uri": "https://localhost:8080/"
        },
        "id": "7E8gKXi8caC9",
        "outputId": "ca14d9d1-4681-4a03-843a-1d955bab3483"
      },
      "source": [
        "estados_delitos = df_delitos['codigo_estado'].value_counts()\n",
        "\n",
        "print(f'El top 3 de estados con más delitos es: \\n{estados_delitos.head(3)}\\n\\nQue corresponde a:\\n\\n9: Ciudad de México\\n15: Estado de México\\n21: Puebla')"
      ],
      "execution_count": null,
      "outputs": [
        {
          "output_type": "stream",
          "text": [
            "El top 3 de estados con más delitos es: \n",
            "9     15179\n",
            "15     6384\n",
            "21     6302\n",
            "Name: codigo_estado, dtype: int64\n",
            "\n",
            "Que corresponde a:\n",
            "\n",
            "9: Ciudad de México\n",
            "15: Estado de México\n",
            "21: Puebla\n"
          ],
          "name": "stdout"
        }
      ]
    },
    {
      "cell_type": "code",
      "metadata": {
        "colab": {
          "base_uri": "https://localhost:8080/"
        },
        "id": "kIXNcDWVf3d8",
        "outputId": "0f70b969-4037-460f-84f0-3eef18fa4943"
      },
      "source": [
        "top_delitos = df_delitos['codigo_delito'].value_counts()\n",
        "\n",
        "print(f'El top 3 de los delitos que más se cometen son: \\n{top_delitos.head(3)}\\n\\nQue corresponde a:\\n\\n2: Robo de partes de autos\\n3: Vandalismo\\n5: Robos o asaltos callejeros:')"
      ],
      "execution_count": null,
      "outputs": [
        {
          "output_type": "stream",
          "text": [
            "El top 3 de los delitos que más se cometen son: \n",
            "2    21864\n",
            "3    18941\n",
            "5    18612\n",
            "Name: codigo_delito, dtype: int64\n",
            "\n",
            "Que corresponde a:\n",
            "\n",
            "2: Robo de partes de autos\n",
            "3: Vandalismo\n",
            "5: Robos o asaltos callejeros:\n"
          ],
          "name": "stdout"
        }
      ]
    },
    {
      "cell_type": "code",
      "metadata": {
        "colab": {
          "base_uri": "https://localhost:8080/"
        },
        "id": "1qvt7SlGh4oj",
        "outputId": "c8684734-e7f0-4eec-c623-20c72da5dc21"
      },
      "source": [
        "sexo_victima = df_delitos['sexo'].value_counts()\n",
        "\n",
        "print(f'El sexo \\n{sexo_victima.head(1)}\\n\\nque es el femenino es el más propenso a ser víctima de un delito')"
      ],
      "execution_count": null,
      "outputs": [
        {
          "output_type": "stream",
          "text": [
            "El sexo \n",
            "2    66841\n",
            "Name: sexo, dtype: int64\n",
            "\n",
            "que es el femenino es el más propenso a ser víctima de un delito\n"
          ],
          "name": "stdout"
        }
      ]
    },
    {
      "cell_type": "code",
      "metadata": {
        "colab": {
          "base_uri": "https://localhost:8080/"
        },
        "id": "pR9EFZWClFYA",
        "outputId": "b72ff0e3-e7c0-4727-f6ee-0e27e54554dc"
      },
      "source": [
        "arma_f = df_delitos['arma_fuego'].value_counts()[1]\n",
        "arma_b = df_delitos['arma_blanca'].value_counts()[1]\n",
        "objeto_c = df_delitos['objeto_contundente'].value_counts()[1]\n",
        "otra_a = df_delitos['otra_arma'].value_counts()[1]\n",
        "\n",
        "print(f'Número de veces que se utilizaron armas:\\n\\n\\t* Arma de fuego: {arma_f}\\n\\t* Arma blanca: {arma_b}\\n\\t* Objeto contundente: {objeto_c}\\n\\t* Otro tipo de arma: {otra_a}')"
      ],
      "execution_count": null,
      "outputs": [
        {
          "output_type": "stream",
          "text": [
            "Número de veces que se utilizaron armas:\n",
            "\n",
            "\t* Arma de fuego: 11048\n",
            "\t* Arma blanca: 7261\n",
            "\t* Objeto contundente: 669\n",
            "\t* Otro tipo de arma: 131\n"
          ],
          "name": "stdout"
        }
      ]
    },
    {
      "cell_type": "markdown",
      "metadata": {
        "id": "ExExScOhm-XL"
      },
      "source": [
        "### Manejo de la API\n",
        "\n",
        "La API de Indicadores del INEGI permite consultar los datos y metadatos de los indicadores disponibles a nivel nacional, por entidad federativa y municipio. Con la API se pueden crear aplicaciones que muestren la información directamente de las bases de datos del INEGI en el preciso momento en que se actualiza. \n",
        "Simplemente se seleccionan los siguientes parámetros:\n",
        "\n",
        "IdIndicador. Seleccionar de la lista el indicador a consultar.\n",
        "\n",
        "Idioma. Español [es] e Inglés [en].\n",
        "\n",
        "Área geográfica. Nacional [00], entidad federativa [99] o municipio [999].\n",
        "\n",
        "Puede consultarse solo el dato más reciente [true] o la serie histórica completa [false].\n",
        "\n",
        "Token. Para utilizar la API es necesario mandarle un token válido, el cual puede obtener al registrarse.\n",
        "\n",
        "Formato. JSON [json], JSONP [jsonp] o XML [xml]."
      ]
    },
    {
      "cell_type": "markdown",
      "metadata": {
        "id": "pigqJ_chMhVe"
      },
      "source": [
        "Importamos la librería requests, hacemos el llamado desde la api y consultamos la información obtenida."
      ]
    },
    {
      "cell_type": "code",
      "metadata": {
        "id": "eLiuE0bLoB8O"
      },
      "source": [
        "import requests"
      ],
      "execution_count": null,
      "outputs": []
    },
    {
      "cell_type": "code",
      "metadata": {
        "id": "XAFvMPUMpGcl"
      },
      "source": [
        "endpoint = 'https://www.inegi.org.mx/app/api/indicadores/desarrolladores/jsonxml/INDICATOR/6200002197,6200028394,6200028395/es/0700/false/BISE/2.0/2ad53fe6-8efc-483e-abaa-8bc3a4b92b96?type=json'\n",
        "payload = {'api_key': '2ad53fe6-8efc-483e-abaa-8bc3a4b92b96'}\n",
        "r = requests.get(endpoint, params=payload)"
      ],
      "execution_count": 6,
      "outputs": []
    },
    {
      "cell_type": "code",
      "metadata": {
        "id": "NxW3bd-U3Zgg"
      },
      "source": [
        "json = r.json()\n",
        "json.keys()"
      ],
      "execution_count": null,
      "outputs": []
    },
    {
      "cell_type": "markdown",
      "metadata": {
        "id": "xj-cthrRM-zs"
      },
      "source": [
        "Convertimos los datos a formato json y los organizamos en un dataframe"
      ]
    },
    {
      "cell_type": "code",
      "metadata": {
        "id": "h4KnpnWjp8Er"
      },
      "source": [
        "data = json['Series']"
      ],
      "execution_count": null,
      "outputs": []
    },
    {
      "cell_type": "code",
      "metadata": {
        "colab": {
          "base_uri": "https://localhost:8080/",
          "height": 195
        },
        "id": "Q5Y2ZNVZq8Wv",
        "outputId": "88b8b4ad-9035-41d7-d49d-8e5a20819654"
      },
      "source": [
        "normalized = pd.json_normalize(data)\n",
        "df_api = pd.DataFrame.from_dict(normalized)\n",
        "df_api"
      ],
      "execution_count": null,
      "outputs": [
        {
          "output_type": "execute_result",
          "data": {
            "text/html": [
              "<div>\n",
              "<style scoped>\n",
              "    .dataframe tbody tr th:only-of-type {\n",
              "        vertical-align: middle;\n",
              "    }\n",
              "\n",
              "    .dataframe tbody tr th {\n",
              "        vertical-align: top;\n",
              "    }\n",
              "\n",
              "    .dataframe thead th {\n",
              "        text-align: right;\n",
              "    }\n",
              "</style>\n",
              "<table border=\"1\" class=\"dataframe\">\n",
              "  <thead>\n",
              "    <tr style=\"text-align: right;\">\n",
              "      <th></th>\n",
              "      <th>INDICADOR</th>\n",
              "      <th>FREQ</th>\n",
              "      <th>TOPIC</th>\n",
              "      <th>UNIT</th>\n",
              "      <th>NOTE</th>\n",
              "      <th>SOURCE</th>\n",
              "      <th>LASTUPDATE</th>\n",
              "      <th>STATUS</th>\n",
              "      <th>OBSERVATIONS</th>\n",
              "    </tr>\n",
              "  </thead>\n",
              "  <tbody>\n",
              "    <tr>\n",
              "      <th>0</th>\n",
              "      <td>6200002197</td>\n",
              "      <td>3</td>\n",
              "      <td>153</td>\n",
              "      <td>55</td>\n",
              "      <td>1933,1945</td>\n",
              "      <td>1024,1027,1054,1171,1795,2196,2782,2822,2931,2970</td>\n",
              "      <td>None</td>\n",
              "      <td>3</td>\n",
              "      <td>[{'TIME_PERIOD': '2010', 'OBS_VALUE': '23993.3...</td>\n",
              "    </tr>\n",
              "    <tr>\n",
              "      <th>1</th>\n",
              "      <td>6200028394</td>\n",
              "      <td>3</td>\n",
              "      <td>153</td>\n",
              "      <td>55</td>\n",
              "      <td>1945</td>\n",
              "      <td>1024,1027,1054,1171,1795,2196,2782,2822,2931,2970</td>\n",
              "      <td>None</td>\n",
              "      <td>3</td>\n",
              "      <td>[{'TIME_PERIOD': '2010', 'OBS_VALUE': '21547.8...</td>\n",
              "    </tr>\n",
              "    <tr>\n",
              "      <th>2</th>\n",
              "      <td>6200028395</td>\n",
              "      <td>3</td>\n",
              "      <td>153</td>\n",
              "      <td>55</td>\n",
              "      <td>1945</td>\n",
              "      <td>1024,1027,1054,1171,1795,2196,2782,2822,2931,2970</td>\n",
              "      <td>None</td>\n",
              "      <td>3</td>\n",
              "      <td>[{'TIME_PERIOD': '2010', 'OBS_VALUE': '26682.0...</td>\n",
              "    </tr>\n",
              "  </tbody>\n",
              "</table>\n",
              "</div>"
            ],
            "text/plain": [
              "    INDICADOR FREQ  ... STATUS                                       OBSERVATIONS\n",
              "0  6200002197    3  ...      3  [{'TIME_PERIOD': '2010', 'OBS_VALUE': '23993.3...\n",
              "1  6200028394    3  ...      3  [{'TIME_PERIOD': '2010', 'OBS_VALUE': '21547.8...\n",
              "2  6200028395    3  ...      3  [{'TIME_PERIOD': '2010', 'OBS_VALUE': '26682.0...\n",
              "\n",
              "[3 rows x 9 columns]"
            ]
          },
          "metadata": {
            "tags": []
          },
          "execution_count": 6
        }
      ]
    },
    {
      "cell_type": "code",
      "metadata": {
        "id": "tWblSJ6WnN5U",
        "colab": {
          "base_uri": "https://localhost:8080/"
        },
        "outputId": "6ddfe784-d8af-4e9b-9a13-24ae075cc49a"
      },
      "source": [
        "print(df_api['OBSERVATIONS'][0])"
      ],
      "execution_count": null,
      "outputs": [
        {
          "output_type": "stream",
          "text": [
            "[{'TIME_PERIOD': '2010', 'OBS_VALUE': '23993.37005982870000000000', 'OBS_EXCEPTION': None, 'OBS_STATUS': '3', 'OBS_SOURCE': '', 'OBS_NOTE': '', 'COBER_GEO': '0700'}, {'TIME_PERIOD': '2011', 'OBS_VALUE': '24316.83405669580000000000', 'OBS_EXCEPTION': None, 'OBS_STATUS': '3', 'OBS_SOURCE': '', 'OBS_NOTE': '', 'COBER_GEO': '0700'}, {'TIME_PERIOD': '2012', 'OBS_VALUE': '27337.44846229310000000000', 'OBS_EXCEPTION': None, 'OBS_STATUS': '3', 'OBS_SOURCE': '', 'OBS_NOTE': '', 'COBER_GEO': '0700'}, {'TIME_PERIOD': '2013', 'OBS_VALUE': '28223.98468609610000000000', 'OBS_EXCEPTION': None, 'OBS_STATUS': '3', 'OBS_SOURCE': '', 'OBS_NOTE': '', 'COBER_GEO': '0700'}, {'TIME_PERIOD': '2014', 'OBS_VALUE': '28200.30530755550000000000', 'OBS_EXCEPTION': None, 'OBS_STATUS': '3', 'OBS_SOURCE': '', 'OBS_NOTE': '', 'COBER_GEO': '0700'}, {'TIME_PERIOD': '2015', 'OBS_VALUE': '28201.78248065800000000000', 'OBS_EXCEPTION': None, 'OBS_STATUS': '3', 'OBS_SOURCE': '', 'OBS_NOTE': '', 'COBER_GEO': '0700'}, {'TIME_PERIOD': '2016', 'OBS_VALUE': '28788.28078298260000000000', 'OBS_EXCEPTION': None, 'OBS_STATUS': '3', 'OBS_SOURCE': '', 'OBS_NOTE': '', 'COBER_GEO': '0700'}, {'TIME_PERIOD': '2017', 'OBS_VALUE': '29746.16351344440000000000', 'OBS_EXCEPTION': None, 'OBS_STATUS': '3', 'OBS_SOURCE': '', 'OBS_NOTE': '', 'COBER_GEO': '0700'}, {'TIME_PERIOD': '2018', 'OBS_VALUE': '28268.56996034720000000000', 'OBS_EXCEPTION': None, 'OBS_STATUS': '3', 'OBS_SOURCE': '', 'OBS_NOTE': '', 'COBER_GEO': '0700'}, {'TIME_PERIOD': '2019', 'OBS_VALUE': '24849.04098999770000000000', 'OBS_EXCEPTION': None, 'OBS_STATUS': '3', 'OBS_SOURCE': '', 'OBS_NOTE': '', 'COBER_GEO': '0700'}]\n"
          ],
          "name": "stdout"
        }
      ]
    },
    {
      "cell_type": "markdown",
      "metadata": {
        "id": "WRhud_RANKeg"
      },
      "source": [
        "Hacemos un llamado de la API de metadata para conocer el significado de los indicadores."
      ]
    },
    {
      "cell_type": "code",
      "metadata": {
        "colab": {
          "base_uri": "https://localhost:8080/"
        },
        "id": "D5CElVTrqJhs",
        "outputId": "6611a585-851a-4053-c7d4-63555716b8cc"
      },
      "source": [
        "endpoint = 'https://www.inegi.org.mx/app/api/indicadores/desarrolladores/jsonxml/CL_INDICATOR/6200002197,6200028394,6200028395/es/BISE/2.0/2ad53fe6-8efc-483e-abaa-8bc3a4b92b96?type=json'\n",
        "payload = {'api_key': '2ad53fe6-8efc-483e-abaa-8bc3a4b92b96'}\n",
        "r = requests.get(endpoint, params=payload)\n",
        "r.status_code"
      ],
      "execution_count": null,
      "outputs": [
        {
          "output_type": "execute_result",
          "data": {
            "text/plain": [
              "200"
            ]
          },
          "metadata": {
            "tags": []
          },
          "execution_count": 8
        }
      ]
    },
    {
      "cell_type": "code",
      "metadata": {
        "colab": {
          "base_uri": "https://localhost:8080/"
        },
        "id": "UTUj8y04qfpD",
        "outputId": "1784f29c-6ed2-4c55-a5c8-43c55643e51a"
      },
      "source": [
        "json = r.json()\n",
        "json.keys()"
      ],
      "execution_count": null,
      "outputs": [
        {
          "output_type": "execute_result",
          "data": {
            "text/plain": [
              "dict_keys(['id', 'agencyID', 'version', 'lang', 'CODE'])"
            ]
          },
          "metadata": {
            "tags": []
          },
          "execution_count": 9
        }
      ]
    },
    {
      "cell_type": "code",
      "metadata": {
        "colab": {
          "base_uri": "https://localhost:8080/"
        },
        "id": "afSvgD8SqgzB",
        "outputId": "b7a959f8-a73a-444b-f815-f500a8c03b46"
      },
      "source": [
        "data = json['CODE']\n",
        "data"
      ],
      "execution_count": null,
      "outputs": [
        {
          "output_type": "execute_result",
          "data": {
            "text/plain": [
              "[{'Description': 'Tasa de prevalencia delictiva por cada cien mil habitantes de 18 años y más',\n",
              "  'value': '6200002197'},\n",
              " {'Description': 'Tasa de prevalencia delictiva por cada cien mil habitantes de 18 años y más, mujeres',\n",
              "  'value': '6200028394'},\n",
              " {'Description': 'Tasa de prevalencia delictiva por cada cien mil habitantes de 18 años y más, hombres',\n",
              "  'value': '6200028395'}]"
            ]
          },
          "metadata": {
            "tags": []
          },
          "execution_count": 10
        }
      ]
    },
    {
      "cell_type": "code",
      "metadata": {
        "colab": {
          "base_uri": "https://localhost:8080/",
          "height": 143
        },
        "id": "xjqqYgkiqzyF",
        "outputId": "b9444e03-8a34-49d7-c4ac-c4fda85c1a6d"
      },
      "source": [
        "normalized = pd.json_normalize(data)\n",
        "df_metada = pd.DataFrame.from_dict(normalized)\n",
        "df_metada"
      ],
      "execution_count": null,
      "outputs": [
        {
          "output_type": "execute_result",
          "data": {
            "text/html": [
              "<div>\n",
              "<style scoped>\n",
              "    .dataframe tbody tr th:only-of-type {\n",
              "        vertical-align: middle;\n",
              "    }\n",
              "\n",
              "    .dataframe tbody tr th {\n",
              "        vertical-align: top;\n",
              "    }\n",
              "\n",
              "    .dataframe thead th {\n",
              "        text-align: right;\n",
              "    }\n",
              "</style>\n",
              "<table border=\"1\" class=\"dataframe\">\n",
              "  <thead>\n",
              "    <tr style=\"text-align: right;\">\n",
              "      <th></th>\n",
              "      <th>value</th>\n",
              "      <th>Description</th>\n",
              "    </tr>\n",
              "  </thead>\n",
              "  <tbody>\n",
              "    <tr>\n",
              "      <th>0</th>\n",
              "      <td>6200002197</td>\n",
              "      <td>Tasa de prevalencia delictiva por cada cien mi...</td>\n",
              "    </tr>\n",
              "    <tr>\n",
              "      <th>1</th>\n",
              "      <td>6200028394</td>\n",
              "      <td>Tasa de prevalencia delictiva por cada cien mi...</td>\n",
              "    </tr>\n",
              "    <tr>\n",
              "      <th>2</th>\n",
              "      <td>6200028395</td>\n",
              "      <td>Tasa de prevalencia delictiva por cada cien mi...</td>\n",
              "    </tr>\n",
              "  </tbody>\n",
              "</table>\n",
              "</div>"
            ],
            "text/plain": [
              "        value                                        Description\n",
              "0  6200002197  Tasa de prevalencia delictiva por cada cien mi...\n",
              "1  6200028394  Tasa de prevalencia delictiva por cada cien mi...\n",
              "2  6200028395  Tasa de prevalencia delictiva por cada cien mi..."
            ]
          },
          "metadata": {
            "tags": []
          },
          "execution_count": 11
        }
      ]
    },
    {
      "cell_type": "markdown",
      "metadata": {
        "id": "jYycIuVDNZWy"
      },
      "source": [
        "Extraemos la información que se encuentra dentro de la columna OBSERVATIONS, ya que es la que contiene los datos que necesitamos."
      ]
    },
    {
      "cell_type": "code",
      "metadata": {
        "id": "1XNiIKG2obMU"
      },
      "source": [
        "df_prueba = df_api['OBSERVATIONS'][0]\n",
        "df_prueba = pd.json_normalize(df_prueba)\n",
        "\n",
        "df_prueba = df_prueba.drop(columns=['OBS_EXCEPTION', 'OBS_STATUS', 'OBS_SOURCE', 'OBS_NOTE', 'COBER_GEO'])\n",
        "\n",
        "df_prueba2 = df_api['OBSERVATIONS'][1]\n",
        "df_prueba2 = pd.json_normalize(df_prueba2)\n",
        "\n",
        "df_prueba2 = df_prueba2.drop(columns=['OBS_EXCEPTION', 'OBS_STATUS', 'OBS_SOURCE', 'OBS_NOTE', 'COBER_GEO'])\n",
        "\n",
        "df_prueba3 = df_api['OBSERVATIONS'][2]\n",
        "df_prueba3 = pd.json_normalize(df_prueba3)\n",
        "\n",
        "df_prueba3 = df_prueba3.drop(columns=['OBS_EXCEPTION', 'OBS_STATUS', 'OBS_SOURCE', 'OBS_NOTE', 'COBER_GEO'])"
      ],
      "execution_count": null,
      "outputs": []
    },
    {
      "cell_type": "code",
      "metadata": {
        "id": "jzXUhIIgqyIU"
      },
      "source": [
        "df_api_total = pd.merge(df_prueba, df_prueba2, left_on='TIME_PERIOD', right_on='TIME_PERIOD')\n",
        "df_api_total = pd.merge(df_total,df_prueba3, left_on='TIME_PERIOD', right_on='TIME_PERIOD')"
      ],
      "execution_count": null,
      "outputs": []
    },
    {
      "cell_type": "markdown",
      "metadata": {
        "id": "v12cm3pJN2Nn"
      },
      "source": [
        "Renombramos las columnas de nuestro nuevo dataframe."
      ]
    },
    {
      "cell_type": "code",
      "metadata": {
        "id": "uMrv_0lHsUMj"
      },
      "source": [
        "diccionario_nombres = {\n",
        "    'TIME_PERIOD': 'anio',\n",
        "    'OBS_VALUE_x': 'Tasa_de_prevalencia_delictiva_por_cada_cien_mil_habitantes',\n",
        "    'OBS_VALUE_y': 'Tasa_de_prevalencia_delictiva_por_cada_cien_mil_habitantes_mujeres',\n",
        "    'OBS_VALUE': 'Tasa_de_prevalencia_delictiva_por_cada_cien_mil_habitantes_hombres'\n",
        "}\n",
        "\n",
        "df_api_total = df_api_total.rename(columns= diccionario_nombres)"
      ],
      "execution_count": null,
      "outputs": []
    },
    {
      "cell_type": "markdown",
      "metadata": {
        "id": "SbOq8nfMN_FA"
      },
      "source": [
        "Convertimos los datos de tipo object a float para su posterior manipulación"
      ]
    },
    {
      "cell_type": "code",
      "metadata": {
        "id": "m79E_t6Opb8T"
      },
      "source": [
        "df_api_total['Tasa_de_prevalencia_delictiva_por_cada_cien_mil_habitantes'] = df_api_total['Tasa_de_prevalencia_delictiva_por_cada_cien_mil_habitantes'].astype(float)\n",
        "df_api_total['Tasa_de_prevalencia_delictiva_por_cada_cien_mil_habitantes_mujeres'] = df_api_total['Tasa_de_prevalencia_delictiva_por_cada_cien_mil_habitantes_mujeres'].astype(float)\n",
        "df_api_total['Tasa_de_prevalencia_delictiva_por_cada_cien_mil_habitantes_hombres'] = df_api_total['Tasa_de_prevalencia_delictiva_por_cada_cien_mil_habitantes_hombres'].astype(float)"
      ],
      "execution_count": null,
      "outputs": []
    },
    {
      "cell_type": "markdown",
      "metadata": {
        "id": "lksn00cwOJYl"
      },
      "source": [
        "Aplicamos una función lambda para redondear a 2 decimales."
      ]
    },
    {
      "cell_type": "code",
      "metadata": {
        "id": "Ivblkkhqyvuc"
      },
      "source": [
        "df_api_total[['Tasa_de_prevalencia_delictiva_por_cada_cien_mil_habitantes', 'Tasa_de_prevalencia_delictiva_por_cada_cien_mil_habitantes_mujeres', 'Tasa_de_prevalencia_delictiva_por_cada_cien_mil_habitantes_hombres']] = df_api_total[['Tasa_de_prevalencia_delictiva_por_cada_cien_mil_habitantes', 'Tasa_de_prevalencia_delictiva_por_cada_cien_mil_habitantes_mujeres', 'Tasa_de_prevalencia_delictiva_por_cada_cien_mil_habitantes_hombres']].apply(lambda x: round(x,2))"
      ],
      "execution_count": null,
      "outputs": []
    },
    {
      "cell_type": "code",
      "metadata": {
        "colab": {
          "base_uri": "https://localhost:8080/",
          "height": 382
        },
        "id": "ZrzFnoGSpruT",
        "outputId": "1ce1940f-2841-41ef-b525-e3473a520117"
      },
      "source": [
        "df_api_total"
      ],
      "execution_count": null,
      "outputs": [
        {
          "output_type": "execute_result",
          "data": {
            "text/html": [
              "<div>\n",
              "<style scoped>\n",
              "    .dataframe tbody tr th:only-of-type {\n",
              "        vertical-align: middle;\n",
              "    }\n",
              "\n",
              "    .dataframe tbody tr th {\n",
              "        vertical-align: top;\n",
              "    }\n",
              "\n",
              "    .dataframe thead th {\n",
              "        text-align: right;\n",
              "    }\n",
              "</style>\n",
              "<table border=\"1\" class=\"dataframe\">\n",
              "  <thead>\n",
              "    <tr style=\"text-align: right;\">\n",
              "      <th></th>\n",
              "      <th>anio</th>\n",
              "      <th>Tasa_de_prevalencia_delictiva_por_cada_cien_mil_habitantes</th>\n",
              "      <th>Tasa_de_prevalencia_delictiva_por_cada_cien_mil_habitantes_mujeres</th>\n",
              "      <th>Tasa_de_prevalencia_delictiva_por_cada_cien_mil_habitantes_hombres</th>\n",
              "    </tr>\n",
              "  </thead>\n",
              "  <tbody>\n",
              "    <tr>\n",
              "      <th>0</th>\n",
              "      <td>2010</td>\n",
              "      <td>23993.37</td>\n",
              "      <td>21547.84</td>\n",
              "      <td>26682.10</td>\n",
              "    </tr>\n",
              "    <tr>\n",
              "      <th>1</th>\n",
              "      <td>2011</td>\n",
              "      <td>24316.83</td>\n",
              "      <td>22982.26</td>\n",
              "      <td>25867.86</td>\n",
              "    </tr>\n",
              "    <tr>\n",
              "      <th>2</th>\n",
              "      <td>2012</td>\n",
              "      <td>27337.45</td>\n",
              "      <td>25370.70</td>\n",
              "      <td>29560.35</td>\n",
              "    </tr>\n",
              "    <tr>\n",
              "      <th>3</th>\n",
              "      <td>2013</td>\n",
              "      <td>28223.98</td>\n",
              "      <td>26432.08</td>\n",
              "      <td>30284.80</td>\n",
              "    </tr>\n",
              "    <tr>\n",
              "      <th>4</th>\n",
              "      <td>2014</td>\n",
              "      <td>28200.31</td>\n",
              "      <td>27129.64</td>\n",
              "      <td>29430.38</td>\n",
              "    </tr>\n",
              "    <tr>\n",
              "      <th>5</th>\n",
              "      <td>2015</td>\n",
              "      <td>28201.78</td>\n",
              "      <td>26467.10</td>\n",
              "      <td>30180.66</td>\n",
              "    </tr>\n",
              "    <tr>\n",
              "      <th>6</th>\n",
              "      <td>2016</td>\n",
              "      <td>28788.28</td>\n",
              "      <td>27609.15</td>\n",
              "      <td>30124.20</td>\n",
              "    </tr>\n",
              "    <tr>\n",
              "      <th>7</th>\n",
              "      <td>2017</td>\n",
              "      <td>29746.16</td>\n",
              "      <td>28279.53</td>\n",
              "      <td>31419.40</td>\n",
              "    </tr>\n",
              "    <tr>\n",
              "      <th>8</th>\n",
              "      <td>2018</td>\n",
              "      <td>28268.57</td>\n",
              "      <td>27044.61</td>\n",
              "      <td>29650.28</td>\n",
              "    </tr>\n",
              "    <tr>\n",
              "      <th>9</th>\n",
              "      <td>2019</td>\n",
              "      <td>24849.04</td>\n",
              "      <td>23471.19</td>\n",
              "      <td>26440.38</td>\n",
              "    </tr>\n",
              "  </tbody>\n",
              "</table>\n",
              "</div>"
            ],
            "text/plain": [
              "   anio  ...  Tasa_de_prevalencia_delictiva_por_cada_cien_mil_habitantes_hombres\n",
              "0  2010  ...                                           26682.10                 \n",
              "1  2011  ...                                           25867.86                 \n",
              "2  2012  ...                                           29560.35                 \n",
              "3  2013  ...                                           30284.80                 \n",
              "4  2014  ...                                           29430.38                 \n",
              "5  2015  ...                                           30180.66                 \n",
              "6  2016  ...                                           30124.20                 \n",
              "7  2017  ...                                           31419.40                 \n",
              "8  2018  ...                                           29650.28                 \n",
              "9  2019  ...                                           26440.38                 \n",
              "\n",
              "[10 rows x 4 columns]"
            ]
          },
          "metadata": {
            "tags": []
          },
          "execution_count": 25
        }
      ]
    },
    {
      "cell_type": "markdown",
      "metadata": {
        "id": "xqUVkHN4xHIM"
      },
      "source": [
        "# Pensando a Futuro\n",
        "Como punto final, realizamos algunos planes a futuro para seguir analizando el problema planteado al principio, ya que nos surgieron nuevas preguntas como:\n",
        "\n",
        "<ul>\n",
        "<li>\n",
        "¿Qué tendencia hay a lo largo del tiempo, qué delitos han aumentado o disminuido?\n",
        "</li>\n",
        "<li>\n",
        "¿Se puede crear un patrón de víctima y uno del delincuente más frecuentes?\n",
        "</li>\n",
        "<li>\n",
        "¿Qué tanto influye el incremento de delitos con la migración entre estados o del país?\n",
        "</li>\n",
        "<li>\n",
        "¿Cuál es la tasa de denuncia de delitos?\n",
        "</li>\n",
        "<li>\n",
        "¿Cuáles son las razones para denunciar o no?\n",
        "</li>\n",
        "<li>\n",
        "¿Cuál es la clase social más afectada?\n",
        "</li>\n",
        "<li>\n",
        "¿Cuál es el daño económico a las víctimas?\n",
        "</li>\n",
        "\n",
        "Con la base de datos creada se pueden responder estas preguntas y a futuro generar gráficas para visualizar y dimensionar el problema por zonas, por delitos, etc. y así generar diferentes medidas para disminuir la delincuencia.\n",
        "\n",
        "#Conclusión\n",
        "Durante este proyecto nos enfrentamos a divesos retos comenzando con la elección de un dataset apropiado, lograr un correcto consumo de una api, la investigación y selección de las columnas a utilizar así como la longitud del dataset que requirió de una minuciosa inspección de la información \n",
        "\n",
        "Sin embargo los pudimos resolver con éxito y logramos obtener un dataset listo para el siguiente módulo!\n",
        "\n",
        "</ul>"
      ]
    }
  ]
}